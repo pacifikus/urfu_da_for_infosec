{
  "nbformat": 4,
  "nbformat_minor": 0,
  "metadata": {
    "colab": {
      "provenance": []
    },
    "kernelspec": {
      "name": "python3",
      "display_name": "Python 3"
    },
    "language_info": {
      "name": "python"
    }
  },
  "cells": [
    {
      "cell_type": "code",
      "execution_count": null,
      "metadata": {
        "id": "fmN7EU5VazcK"
      },
      "outputs": [],
      "source": [
        "import pandas as pd\n",
        "import numpy as np"
      ]
    },
    {
      "cell_type": "code",
      "source": [
        "df = pd.read_csv(\"titanic.csv\")\n",
        "df.head()"
      ],
      "metadata": {
        "colab": {
          "base_uri": "https://localhost:8080/",
          "height": 206
        },
        "id": "81CY3OnUa64O",
        "outputId": "04428364-d261-4dd3-afde-d53d64bb4814"
      },
      "execution_count": null,
      "outputs": [
        {
          "output_type": "execute_result",
          "data": {
            "text/plain": [
              "   PassengerId  Survived  Pclass  \\\n",
              "0            1         0       3   \n",
              "1            2         1       1   \n",
              "2            3         1       3   \n",
              "3            4         1       1   \n",
              "4            5         0       3   \n",
              "\n",
              "                                                Name     Sex   Age  SibSp  \\\n",
              "0                            Braund, Mr. Owen Harris    male  22.0      1   \n",
              "1  Cumings, Mrs. John Bradley (Florence Briggs Th...  female  38.0      1   \n",
              "2                             Heikkinen, Miss. Laina  female  26.0      0   \n",
              "3       Futrelle, Mrs. Jacques Heath (Lily May Peel)  female  35.0      1   \n",
              "4                           Allen, Mr. William Henry    male  35.0      0   \n",
              "\n",
              "   Parch            Ticket     Fare Cabin Embarked  \n",
              "0      0         A/5 21171   7.2500   NaN        S  \n",
              "1      0          PC 17599  71.2833   C85        C  \n",
              "2      0  STON/O2. 3101282   7.9250   NaN        S  \n",
              "3      0            113803  53.1000  C123        S  \n",
              "4      0            373450   8.0500   NaN        S  "
            ],
            "text/html": [
              "\n",
              "  <div id=\"df-32bc946e-389d-494d-91bb-2226f4256a84\" class=\"colab-df-container\">\n",
              "    <div>\n",
              "<style scoped>\n",
              "    .dataframe tbody tr th:only-of-type {\n",
              "        vertical-align: middle;\n",
              "    }\n",
              "\n",
              "    .dataframe tbody tr th {\n",
              "        vertical-align: top;\n",
              "    }\n",
              "\n",
              "    .dataframe thead th {\n",
              "        text-align: right;\n",
              "    }\n",
              "</style>\n",
              "<table border=\"1\" class=\"dataframe\">\n",
              "  <thead>\n",
              "    <tr style=\"text-align: right;\">\n",
              "      <th></th>\n",
              "      <th>PassengerId</th>\n",
              "      <th>Survived</th>\n",
              "      <th>Pclass</th>\n",
              "      <th>Name</th>\n",
              "      <th>Sex</th>\n",
              "      <th>Age</th>\n",
              "      <th>SibSp</th>\n",
              "      <th>Parch</th>\n",
              "      <th>Ticket</th>\n",
              "      <th>Fare</th>\n",
              "      <th>Cabin</th>\n",
              "      <th>Embarked</th>\n",
              "    </tr>\n",
              "  </thead>\n",
              "  <tbody>\n",
              "    <tr>\n",
              "      <th>0</th>\n",
              "      <td>1</td>\n",
              "      <td>0</td>\n",
              "      <td>3</td>\n",
              "      <td>Braund, Mr. Owen Harris</td>\n",
              "      <td>male</td>\n",
              "      <td>22.0</td>\n",
              "      <td>1</td>\n",
              "      <td>0</td>\n",
              "      <td>A/5 21171</td>\n",
              "      <td>7.2500</td>\n",
              "      <td>NaN</td>\n",
              "      <td>S</td>\n",
              "    </tr>\n",
              "    <tr>\n",
              "      <th>1</th>\n",
              "      <td>2</td>\n",
              "      <td>1</td>\n",
              "      <td>1</td>\n",
              "      <td>Cumings, Mrs. John Bradley (Florence Briggs Th...</td>\n",
              "      <td>female</td>\n",
              "      <td>38.0</td>\n",
              "      <td>1</td>\n",
              "      <td>0</td>\n",
              "      <td>PC 17599</td>\n",
              "      <td>71.2833</td>\n",
              "      <td>C85</td>\n",
              "      <td>C</td>\n",
              "    </tr>\n",
              "    <tr>\n",
              "      <th>2</th>\n",
              "      <td>3</td>\n",
              "      <td>1</td>\n",
              "      <td>3</td>\n",
              "      <td>Heikkinen, Miss. Laina</td>\n",
              "      <td>female</td>\n",
              "      <td>26.0</td>\n",
              "      <td>0</td>\n",
              "      <td>0</td>\n",
              "      <td>STON/O2. 3101282</td>\n",
              "      <td>7.9250</td>\n",
              "      <td>NaN</td>\n",
              "      <td>S</td>\n",
              "    </tr>\n",
              "    <tr>\n",
              "      <th>3</th>\n",
              "      <td>4</td>\n",
              "      <td>1</td>\n",
              "      <td>1</td>\n",
              "      <td>Futrelle, Mrs. Jacques Heath (Lily May Peel)</td>\n",
              "      <td>female</td>\n",
              "      <td>35.0</td>\n",
              "      <td>1</td>\n",
              "      <td>0</td>\n",
              "      <td>113803</td>\n",
              "      <td>53.1000</td>\n",
              "      <td>C123</td>\n",
              "      <td>S</td>\n",
              "    </tr>\n",
              "    <tr>\n",
              "      <th>4</th>\n",
              "      <td>5</td>\n",
              "      <td>0</td>\n",
              "      <td>3</td>\n",
              "      <td>Allen, Mr. William Henry</td>\n",
              "      <td>male</td>\n",
              "      <td>35.0</td>\n",
              "      <td>0</td>\n",
              "      <td>0</td>\n",
              "      <td>373450</td>\n",
              "      <td>8.0500</td>\n",
              "      <td>NaN</td>\n",
              "      <td>S</td>\n",
              "    </tr>\n",
              "  </tbody>\n",
              "</table>\n",
              "</div>\n",
              "    <div class=\"colab-df-buttons\">\n",
              "\n",
              "  <div class=\"colab-df-container\">\n",
              "    <button class=\"colab-df-convert\" onclick=\"convertToInteractive('df-32bc946e-389d-494d-91bb-2226f4256a84')\"\n",
              "            title=\"Convert this dataframe to an interactive table.\"\n",
              "            style=\"display:none;\">\n",
              "\n",
              "  <svg xmlns=\"http://www.w3.org/2000/svg\" height=\"24px\" viewBox=\"0 -960 960 960\">\n",
              "    <path d=\"M120-120v-720h720v720H120Zm60-500h600v-160H180v160Zm220 220h160v-160H400v160Zm0 220h160v-160H400v160ZM180-400h160v-160H180v160Zm440 0h160v-160H620v160ZM180-180h160v-160H180v160Zm440 0h160v-160H620v160Z\"/>\n",
              "  </svg>\n",
              "    </button>\n",
              "\n",
              "  <style>\n",
              "    .colab-df-container {\n",
              "      display:flex;\n",
              "      gap: 12px;\n",
              "    }\n",
              "\n",
              "    .colab-df-convert {\n",
              "      background-color: #E8F0FE;\n",
              "      border: none;\n",
              "      border-radius: 50%;\n",
              "      cursor: pointer;\n",
              "      display: none;\n",
              "      fill: #1967D2;\n",
              "      height: 32px;\n",
              "      padding: 0 0 0 0;\n",
              "      width: 32px;\n",
              "    }\n",
              "\n",
              "    .colab-df-convert:hover {\n",
              "      background-color: #E2EBFA;\n",
              "      box-shadow: 0px 1px 2px rgba(60, 64, 67, 0.3), 0px 1px 3px 1px rgba(60, 64, 67, 0.15);\n",
              "      fill: #174EA6;\n",
              "    }\n",
              "\n",
              "    .colab-df-buttons div {\n",
              "      margin-bottom: 4px;\n",
              "    }\n",
              "\n",
              "    [theme=dark] .colab-df-convert {\n",
              "      background-color: #3B4455;\n",
              "      fill: #D2E3FC;\n",
              "    }\n",
              "\n",
              "    [theme=dark] .colab-df-convert:hover {\n",
              "      background-color: #434B5C;\n",
              "      box-shadow: 0px 1px 3px 1px rgba(0, 0, 0, 0.15);\n",
              "      filter: drop-shadow(0px 1px 2px rgba(0, 0, 0, 0.3));\n",
              "      fill: #FFFFFF;\n",
              "    }\n",
              "  </style>\n",
              "\n",
              "    <script>\n",
              "      const buttonEl =\n",
              "        document.querySelector('#df-32bc946e-389d-494d-91bb-2226f4256a84 button.colab-df-convert');\n",
              "      buttonEl.style.display =\n",
              "        google.colab.kernel.accessAllowed ? 'block' : 'none';\n",
              "\n",
              "      async function convertToInteractive(key) {\n",
              "        const element = document.querySelector('#df-32bc946e-389d-494d-91bb-2226f4256a84');\n",
              "        const dataTable =\n",
              "          await google.colab.kernel.invokeFunction('convertToInteractive',\n",
              "                                                    [key], {});\n",
              "        if (!dataTable) return;\n",
              "\n",
              "        const docLinkHtml = 'Like what you see? Visit the ' +\n",
              "          '<a target=\"_blank\" href=https://colab.research.google.com/notebooks/data_table.ipynb>data table notebook</a>'\n",
              "          + ' to learn more about interactive tables.';\n",
              "        element.innerHTML = '';\n",
              "        dataTable['output_type'] = 'display_data';\n",
              "        await google.colab.output.renderOutput(dataTable, element);\n",
              "        const docLink = document.createElement('div');\n",
              "        docLink.innerHTML = docLinkHtml;\n",
              "        element.appendChild(docLink);\n",
              "      }\n",
              "    </script>\n",
              "  </div>\n",
              "\n",
              "\n",
              "<div id=\"df-5bf1a0cd-b0eb-406d-8c89-f5469d10d832\">\n",
              "  <button class=\"colab-df-quickchart\" onclick=\"quickchart('df-5bf1a0cd-b0eb-406d-8c89-f5469d10d832')\"\n",
              "            title=\"Suggest charts\"\n",
              "            style=\"display:none;\">\n",
              "\n",
              "<svg xmlns=\"http://www.w3.org/2000/svg\" height=\"24px\"viewBox=\"0 0 24 24\"\n",
              "     width=\"24px\">\n",
              "    <g>\n",
              "        <path d=\"M19 3H5c-1.1 0-2 .9-2 2v14c0 1.1.9 2 2 2h14c1.1 0 2-.9 2-2V5c0-1.1-.9-2-2-2zM9 17H7v-7h2v7zm4 0h-2V7h2v10zm4 0h-2v-4h2v4z\"/>\n",
              "    </g>\n",
              "</svg>\n",
              "  </button>\n",
              "\n",
              "<style>\n",
              "  .colab-df-quickchart {\n",
              "      --bg-color: #E8F0FE;\n",
              "      --fill-color: #1967D2;\n",
              "      --hover-bg-color: #E2EBFA;\n",
              "      --hover-fill-color: #174EA6;\n",
              "      --disabled-fill-color: #AAA;\n",
              "      --disabled-bg-color: #DDD;\n",
              "  }\n",
              "\n",
              "  [theme=dark] .colab-df-quickchart {\n",
              "      --bg-color: #3B4455;\n",
              "      --fill-color: #D2E3FC;\n",
              "      --hover-bg-color: #434B5C;\n",
              "      --hover-fill-color: #FFFFFF;\n",
              "      --disabled-bg-color: #3B4455;\n",
              "      --disabled-fill-color: #666;\n",
              "  }\n",
              "\n",
              "  .colab-df-quickchart {\n",
              "    background-color: var(--bg-color);\n",
              "    border: none;\n",
              "    border-radius: 50%;\n",
              "    cursor: pointer;\n",
              "    display: none;\n",
              "    fill: var(--fill-color);\n",
              "    height: 32px;\n",
              "    padding: 0;\n",
              "    width: 32px;\n",
              "  }\n",
              "\n",
              "  .colab-df-quickchart:hover {\n",
              "    background-color: var(--hover-bg-color);\n",
              "    box-shadow: 0 1px 2px rgba(60, 64, 67, 0.3), 0 1px 3px 1px rgba(60, 64, 67, 0.15);\n",
              "    fill: var(--button-hover-fill-color);\n",
              "  }\n",
              "\n",
              "  .colab-df-quickchart-complete:disabled,\n",
              "  .colab-df-quickchart-complete:disabled:hover {\n",
              "    background-color: var(--disabled-bg-color);\n",
              "    fill: var(--disabled-fill-color);\n",
              "    box-shadow: none;\n",
              "  }\n",
              "\n",
              "  .colab-df-spinner {\n",
              "    border: 2px solid var(--fill-color);\n",
              "    border-color: transparent;\n",
              "    border-bottom-color: var(--fill-color);\n",
              "    animation:\n",
              "      spin 1s steps(1) infinite;\n",
              "  }\n",
              "\n",
              "  @keyframes spin {\n",
              "    0% {\n",
              "      border-color: transparent;\n",
              "      border-bottom-color: var(--fill-color);\n",
              "      border-left-color: var(--fill-color);\n",
              "    }\n",
              "    20% {\n",
              "      border-color: transparent;\n",
              "      border-left-color: var(--fill-color);\n",
              "      border-top-color: var(--fill-color);\n",
              "    }\n",
              "    30% {\n",
              "      border-color: transparent;\n",
              "      border-left-color: var(--fill-color);\n",
              "      border-top-color: var(--fill-color);\n",
              "      border-right-color: var(--fill-color);\n",
              "    }\n",
              "    40% {\n",
              "      border-color: transparent;\n",
              "      border-right-color: var(--fill-color);\n",
              "      border-top-color: var(--fill-color);\n",
              "    }\n",
              "    60% {\n",
              "      border-color: transparent;\n",
              "      border-right-color: var(--fill-color);\n",
              "    }\n",
              "    80% {\n",
              "      border-color: transparent;\n",
              "      border-right-color: var(--fill-color);\n",
              "      border-bottom-color: var(--fill-color);\n",
              "    }\n",
              "    90% {\n",
              "      border-color: transparent;\n",
              "      border-bottom-color: var(--fill-color);\n",
              "    }\n",
              "  }\n",
              "</style>\n",
              "\n",
              "  <script>\n",
              "    async function quickchart(key) {\n",
              "      const quickchartButtonEl =\n",
              "        document.querySelector('#' + key + ' button');\n",
              "      quickchartButtonEl.disabled = true;  // To prevent multiple clicks.\n",
              "      quickchartButtonEl.classList.add('colab-df-spinner');\n",
              "      try {\n",
              "        const charts = await google.colab.kernel.invokeFunction(\n",
              "            'suggestCharts', [key], {});\n",
              "      } catch (error) {\n",
              "        console.error('Error during call to suggestCharts:', error);\n",
              "      }\n",
              "      quickchartButtonEl.classList.remove('colab-df-spinner');\n",
              "      quickchartButtonEl.classList.add('colab-df-quickchart-complete');\n",
              "    }\n",
              "    (() => {\n",
              "      let quickchartButtonEl =\n",
              "        document.querySelector('#df-5bf1a0cd-b0eb-406d-8c89-f5469d10d832 button');\n",
              "      quickchartButtonEl.style.display =\n",
              "        google.colab.kernel.accessAllowed ? 'block' : 'none';\n",
              "    })();\n",
              "  </script>\n",
              "</div>\n",
              "    </div>\n",
              "  </div>\n"
            ]
          },
          "metadata": {},
          "execution_count": 42
        }
      ]
    },
    {
      "cell_type": "markdown",
      "source": [
        "### Оптимизация типов данных"
      ],
      "metadata": {
        "id": "6fQmb8bPeBHh"
      }
    },
    {
      "cell_type": "code",
      "source": [
        "df.info()"
      ],
      "metadata": {
        "colab": {
          "base_uri": "https://localhost:8080/"
        },
        "id": "sjLrknRIeA6F",
        "outputId": "834437be-04e4-473f-ddea-9e5b9da183d4"
      },
      "execution_count": null,
      "outputs": [
        {
          "output_type": "stream",
          "name": "stdout",
          "text": [
            "<class 'pandas.core.frame.DataFrame'>\n",
            "RangeIndex: 891 entries, 0 to 890\n",
            "Data columns (total 12 columns):\n",
            " #   Column       Non-Null Count  Dtype  \n",
            "---  ------       --------------  -----  \n",
            " 0   PassengerId  891 non-null    int64  \n",
            " 1   Survived     891 non-null    int64  \n",
            " 2   Pclass       891 non-null    int64  \n",
            " 3   Name         891 non-null    object \n",
            " 4   Sex          891 non-null    object \n",
            " 5   Age          714 non-null    float64\n",
            " 6   SibSp        891 non-null    int64  \n",
            " 7   Parch        891 non-null    int64  \n",
            " 8   Ticket       891 non-null    object \n",
            " 9   Fare         891 non-null    float64\n",
            " 10  Cabin        204 non-null    object \n",
            " 11  Embarked     889 non-null    object \n",
            "dtypes: float64(2), int64(5), object(5)\n",
            "memory usage: 83.7+ KB\n"
          ]
        }
      ]
    },
    {
      "cell_type": "code",
      "source": [
        "df.describe()"
      ],
      "metadata": {
        "colab": {
          "base_uri": "https://localhost:8080/",
          "height": 300
        },
        "id": "L9-FlJhHeFUh",
        "outputId": "2754b2ea-9cfb-4c9a-b2db-a6309381677e"
      },
      "execution_count": null,
      "outputs": [
        {
          "output_type": "execute_result",
          "data": {
            "text/plain": [
              "       PassengerId    Survived      Pclass         Age       SibSp  \\\n",
              "count   891.000000  891.000000  891.000000  714.000000  891.000000   \n",
              "mean    446.000000    0.383838    2.308642   29.699118    0.523008   \n",
              "std     257.353842    0.486592    0.836071   14.526497    1.102743   \n",
              "min       1.000000    0.000000    1.000000    0.420000    0.000000   \n",
              "25%     223.500000    0.000000    2.000000   20.125000    0.000000   \n",
              "50%     446.000000    0.000000    3.000000   28.000000    0.000000   \n",
              "75%     668.500000    1.000000    3.000000   38.000000    1.000000   \n",
              "max     891.000000    1.000000    3.000000   80.000000    8.000000   \n",
              "\n",
              "            Parch        Fare  \n",
              "count  891.000000  891.000000  \n",
              "mean     0.381594   32.204208  \n",
              "std      0.806057   49.693429  \n",
              "min      0.000000    0.000000  \n",
              "25%      0.000000    7.910400  \n",
              "50%      0.000000   14.454200  \n",
              "75%      0.000000   31.000000  \n",
              "max      6.000000  512.329200  "
            ],
            "text/html": [
              "\n",
              "  <div id=\"df-686c9bb5-ffac-4e98-8cc9-9e328de9715b\" class=\"colab-df-container\">\n",
              "    <div>\n",
              "<style scoped>\n",
              "    .dataframe tbody tr th:only-of-type {\n",
              "        vertical-align: middle;\n",
              "    }\n",
              "\n",
              "    .dataframe tbody tr th {\n",
              "        vertical-align: top;\n",
              "    }\n",
              "\n",
              "    .dataframe thead th {\n",
              "        text-align: right;\n",
              "    }\n",
              "</style>\n",
              "<table border=\"1\" class=\"dataframe\">\n",
              "  <thead>\n",
              "    <tr style=\"text-align: right;\">\n",
              "      <th></th>\n",
              "      <th>PassengerId</th>\n",
              "      <th>Survived</th>\n",
              "      <th>Pclass</th>\n",
              "      <th>Age</th>\n",
              "      <th>SibSp</th>\n",
              "      <th>Parch</th>\n",
              "      <th>Fare</th>\n",
              "    </tr>\n",
              "  </thead>\n",
              "  <tbody>\n",
              "    <tr>\n",
              "      <th>count</th>\n",
              "      <td>891.000000</td>\n",
              "      <td>891.000000</td>\n",
              "      <td>891.000000</td>\n",
              "      <td>714.000000</td>\n",
              "      <td>891.000000</td>\n",
              "      <td>891.000000</td>\n",
              "      <td>891.000000</td>\n",
              "    </tr>\n",
              "    <tr>\n",
              "      <th>mean</th>\n",
              "      <td>446.000000</td>\n",
              "      <td>0.383838</td>\n",
              "      <td>2.308642</td>\n",
              "      <td>29.699118</td>\n",
              "      <td>0.523008</td>\n",
              "      <td>0.381594</td>\n",
              "      <td>32.204208</td>\n",
              "    </tr>\n",
              "    <tr>\n",
              "      <th>std</th>\n",
              "      <td>257.353842</td>\n",
              "      <td>0.486592</td>\n",
              "      <td>0.836071</td>\n",
              "      <td>14.526497</td>\n",
              "      <td>1.102743</td>\n",
              "      <td>0.806057</td>\n",
              "      <td>49.693429</td>\n",
              "    </tr>\n",
              "    <tr>\n",
              "      <th>min</th>\n",
              "      <td>1.000000</td>\n",
              "      <td>0.000000</td>\n",
              "      <td>1.000000</td>\n",
              "      <td>0.420000</td>\n",
              "      <td>0.000000</td>\n",
              "      <td>0.000000</td>\n",
              "      <td>0.000000</td>\n",
              "    </tr>\n",
              "    <tr>\n",
              "      <th>25%</th>\n",
              "      <td>223.500000</td>\n",
              "      <td>0.000000</td>\n",
              "      <td>2.000000</td>\n",
              "      <td>20.125000</td>\n",
              "      <td>0.000000</td>\n",
              "      <td>0.000000</td>\n",
              "      <td>7.910400</td>\n",
              "    </tr>\n",
              "    <tr>\n",
              "      <th>50%</th>\n",
              "      <td>446.000000</td>\n",
              "      <td>0.000000</td>\n",
              "      <td>3.000000</td>\n",
              "      <td>28.000000</td>\n",
              "      <td>0.000000</td>\n",
              "      <td>0.000000</td>\n",
              "      <td>14.454200</td>\n",
              "    </tr>\n",
              "    <tr>\n",
              "      <th>75%</th>\n",
              "      <td>668.500000</td>\n",
              "      <td>1.000000</td>\n",
              "      <td>3.000000</td>\n",
              "      <td>38.000000</td>\n",
              "      <td>1.000000</td>\n",
              "      <td>0.000000</td>\n",
              "      <td>31.000000</td>\n",
              "    </tr>\n",
              "    <tr>\n",
              "      <th>max</th>\n",
              "      <td>891.000000</td>\n",
              "      <td>1.000000</td>\n",
              "      <td>3.000000</td>\n",
              "      <td>80.000000</td>\n",
              "      <td>8.000000</td>\n",
              "      <td>6.000000</td>\n",
              "      <td>512.329200</td>\n",
              "    </tr>\n",
              "  </tbody>\n",
              "</table>\n",
              "</div>\n",
              "    <div class=\"colab-df-buttons\">\n",
              "\n",
              "  <div class=\"colab-df-container\">\n",
              "    <button class=\"colab-df-convert\" onclick=\"convertToInteractive('df-686c9bb5-ffac-4e98-8cc9-9e328de9715b')\"\n",
              "            title=\"Convert this dataframe to an interactive table.\"\n",
              "            style=\"display:none;\">\n",
              "\n",
              "  <svg xmlns=\"http://www.w3.org/2000/svg\" height=\"24px\" viewBox=\"0 -960 960 960\">\n",
              "    <path d=\"M120-120v-720h720v720H120Zm60-500h600v-160H180v160Zm220 220h160v-160H400v160Zm0 220h160v-160H400v160ZM180-400h160v-160H180v160Zm440 0h160v-160H620v160ZM180-180h160v-160H180v160Zm440 0h160v-160H620v160Z\"/>\n",
              "  </svg>\n",
              "    </button>\n",
              "\n",
              "  <style>\n",
              "    .colab-df-container {\n",
              "      display:flex;\n",
              "      gap: 12px;\n",
              "    }\n",
              "\n",
              "    .colab-df-convert {\n",
              "      background-color: #E8F0FE;\n",
              "      border: none;\n",
              "      border-radius: 50%;\n",
              "      cursor: pointer;\n",
              "      display: none;\n",
              "      fill: #1967D2;\n",
              "      height: 32px;\n",
              "      padding: 0 0 0 0;\n",
              "      width: 32px;\n",
              "    }\n",
              "\n",
              "    .colab-df-convert:hover {\n",
              "      background-color: #E2EBFA;\n",
              "      box-shadow: 0px 1px 2px rgba(60, 64, 67, 0.3), 0px 1px 3px 1px rgba(60, 64, 67, 0.15);\n",
              "      fill: #174EA6;\n",
              "    }\n",
              "\n",
              "    .colab-df-buttons div {\n",
              "      margin-bottom: 4px;\n",
              "    }\n",
              "\n",
              "    [theme=dark] .colab-df-convert {\n",
              "      background-color: #3B4455;\n",
              "      fill: #D2E3FC;\n",
              "    }\n",
              "\n",
              "    [theme=dark] .colab-df-convert:hover {\n",
              "      background-color: #434B5C;\n",
              "      box-shadow: 0px 1px 3px 1px rgba(0, 0, 0, 0.15);\n",
              "      filter: drop-shadow(0px 1px 2px rgba(0, 0, 0, 0.3));\n",
              "      fill: #FFFFFF;\n",
              "    }\n",
              "  </style>\n",
              "\n",
              "    <script>\n",
              "      const buttonEl =\n",
              "        document.querySelector('#df-686c9bb5-ffac-4e98-8cc9-9e328de9715b button.colab-df-convert');\n",
              "      buttonEl.style.display =\n",
              "        google.colab.kernel.accessAllowed ? 'block' : 'none';\n",
              "\n",
              "      async function convertToInteractive(key) {\n",
              "        const element = document.querySelector('#df-686c9bb5-ffac-4e98-8cc9-9e328de9715b');\n",
              "        const dataTable =\n",
              "          await google.colab.kernel.invokeFunction('convertToInteractive',\n",
              "                                                    [key], {});\n",
              "        if (!dataTable) return;\n",
              "\n",
              "        const docLinkHtml = 'Like what you see? Visit the ' +\n",
              "          '<a target=\"_blank\" href=https://colab.research.google.com/notebooks/data_table.ipynb>data table notebook</a>'\n",
              "          + ' to learn more about interactive tables.';\n",
              "        element.innerHTML = '';\n",
              "        dataTable['output_type'] = 'display_data';\n",
              "        await google.colab.output.renderOutput(dataTable, element);\n",
              "        const docLink = document.createElement('div');\n",
              "        docLink.innerHTML = docLinkHtml;\n",
              "        element.appendChild(docLink);\n",
              "      }\n",
              "    </script>\n",
              "  </div>\n",
              "\n",
              "\n",
              "<div id=\"df-4bf9fcdf-3288-403e-bcb0-3e092e0d223a\">\n",
              "  <button class=\"colab-df-quickchart\" onclick=\"quickchart('df-4bf9fcdf-3288-403e-bcb0-3e092e0d223a')\"\n",
              "            title=\"Suggest charts\"\n",
              "            style=\"display:none;\">\n",
              "\n",
              "<svg xmlns=\"http://www.w3.org/2000/svg\" height=\"24px\"viewBox=\"0 0 24 24\"\n",
              "     width=\"24px\">\n",
              "    <g>\n",
              "        <path d=\"M19 3H5c-1.1 0-2 .9-2 2v14c0 1.1.9 2 2 2h14c1.1 0 2-.9 2-2V5c0-1.1-.9-2-2-2zM9 17H7v-7h2v7zm4 0h-2V7h2v10zm4 0h-2v-4h2v4z\"/>\n",
              "    </g>\n",
              "</svg>\n",
              "  </button>\n",
              "\n",
              "<style>\n",
              "  .colab-df-quickchart {\n",
              "      --bg-color: #E8F0FE;\n",
              "      --fill-color: #1967D2;\n",
              "      --hover-bg-color: #E2EBFA;\n",
              "      --hover-fill-color: #174EA6;\n",
              "      --disabled-fill-color: #AAA;\n",
              "      --disabled-bg-color: #DDD;\n",
              "  }\n",
              "\n",
              "  [theme=dark] .colab-df-quickchart {\n",
              "      --bg-color: #3B4455;\n",
              "      --fill-color: #D2E3FC;\n",
              "      --hover-bg-color: #434B5C;\n",
              "      --hover-fill-color: #FFFFFF;\n",
              "      --disabled-bg-color: #3B4455;\n",
              "      --disabled-fill-color: #666;\n",
              "  }\n",
              "\n",
              "  .colab-df-quickchart {\n",
              "    background-color: var(--bg-color);\n",
              "    border: none;\n",
              "    border-radius: 50%;\n",
              "    cursor: pointer;\n",
              "    display: none;\n",
              "    fill: var(--fill-color);\n",
              "    height: 32px;\n",
              "    padding: 0;\n",
              "    width: 32px;\n",
              "  }\n",
              "\n",
              "  .colab-df-quickchart:hover {\n",
              "    background-color: var(--hover-bg-color);\n",
              "    box-shadow: 0 1px 2px rgba(60, 64, 67, 0.3), 0 1px 3px 1px rgba(60, 64, 67, 0.15);\n",
              "    fill: var(--button-hover-fill-color);\n",
              "  }\n",
              "\n",
              "  .colab-df-quickchart-complete:disabled,\n",
              "  .colab-df-quickchart-complete:disabled:hover {\n",
              "    background-color: var(--disabled-bg-color);\n",
              "    fill: var(--disabled-fill-color);\n",
              "    box-shadow: none;\n",
              "  }\n",
              "\n",
              "  .colab-df-spinner {\n",
              "    border: 2px solid var(--fill-color);\n",
              "    border-color: transparent;\n",
              "    border-bottom-color: var(--fill-color);\n",
              "    animation:\n",
              "      spin 1s steps(1) infinite;\n",
              "  }\n",
              "\n",
              "  @keyframes spin {\n",
              "    0% {\n",
              "      border-color: transparent;\n",
              "      border-bottom-color: var(--fill-color);\n",
              "      border-left-color: var(--fill-color);\n",
              "    }\n",
              "    20% {\n",
              "      border-color: transparent;\n",
              "      border-left-color: var(--fill-color);\n",
              "      border-top-color: var(--fill-color);\n",
              "    }\n",
              "    30% {\n",
              "      border-color: transparent;\n",
              "      border-left-color: var(--fill-color);\n",
              "      border-top-color: var(--fill-color);\n",
              "      border-right-color: var(--fill-color);\n",
              "    }\n",
              "    40% {\n",
              "      border-color: transparent;\n",
              "      border-right-color: var(--fill-color);\n",
              "      border-top-color: var(--fill-color);\n",
              "    }\n",
              "    60% {\n",
              "      border-color: transparent;\n",
              "      border-right-color: var(--fill-color);\n",
              "    }\n",
              "    80% {\n",
              "      border-color: transparent;\n",
              "      border-right-color: var(--fill-color);\n",
              "      border-bottom-color: var(--fill-color);\n",
              "    }\n",
              "    90% {\n",
              "      border-color: transparent;\n",
              "      border-bottom-color: var(--fill-color);\n",
              "    }\n",
              "  }\n",
              "</style>\n",
              "\n",
              "  <script>\n",
              "    async function quickchart(key) {\n",
              "      const quickchartButtonEl =\n",
              "        document.querySelector('#' + key + ' button');\n",
              "      quickchartButtonEl.disabled = true;  // To prevent multiple clicks.\n",
              "      quickchartButtonEl.classList.add('colab-df-spinner');\n",
              "      try {\n",
              "        const charts = await google.colab.kernel.invokeFunction(\n",
              "            'suggestCharts', [key], {});\n",
              "      } catch (error) {\n",
              "        console.error('Error during call to suggestCharts:', error);\n",
              "      }\n",
              "      quickchartButtonEl.classList.remove('colab-df-spinner');\n",
              "      quickchartButtonEl.classList.add('colab-df-quickchart-complete');\n",
              "    }\n",
              "    (() => {\n",
              "      let quickchartButtonEl =\n",
              "        document.querySelector('#df-4bf9fcdf-3288-403e-bcb0-3e092e0d223a button');\n",
              "      quickchartButtonEl.style.display =\n",
              "        google.colab.kernel.accessAllowed ? 'block' : 'none';\n",
              "    })();\n",
              "  </script>\n",
              "</div>\n",
              "    </div>\n",
              "  </div>\n"
            ]
          },
          "metadata": {},
          "execution_count": 44
        }
      ]
    },
    {
      "cell_type": "markdown",
      "source": [
        "![image.png](data:image/png;base64,iVBORw0KGgoAAAANSUhEUgAAAcQAAABvCAIAAAD9kSfRAAAgAElEQVR4Ae19f2gbV76v4P11WfbxyrbvXS6v27shPG67/bnkOs4mWd4mJk7i1o2JY6dRSILqDbGdS2SHts6PktiO7V2xW1huhZKNBXKC3ZLES0266zrGcroQeNf2FoGpC06Hgqr14hFVtjZIyLZ0Ht/5zhwdzUgzo18eazwiRGfOj+/5nvP5zmfOOSN/vzZifawZsGbAmgFrBgqeAVvBEiwB1gxYM2DNgDUDxBgy5TguZLqPKQdVviiZGA4TD61Y9rawsLD+7G4MmRoy1FJPrikHVepJK518E8MRDofj8Xjppq7cJSeTSUPQt8i0OJZjFH7F0d50UswNh0Wm6gZrFPoWmarjorfUKPz06rfJ6pkbDotM1c3ZKPQtMlXHRW+pUfjp1W+T1TM3HBaZqpuzUehbZKqOi95So/DTq98mq2duOCwyVTdno9C3yFQdF72lRuGnV79NVs/ccFhkqm7ORqFf7mQa37tr9/fqU7supUbhty6DK79Oig7HUI9j/MvvNshEWGSqDkTR0VfvjpaWO5muNtTVrwqjSfJzOw+10YGtc8Io/NZ5mOXSXdHhYMl0h81m7PPbIlN1Oyw6+urd0dJyJdPlYODe3TvhcFgk0yjvc7tqDjffu3tn8otvCCHc7NRXvPhbPL/f/10MckKhEDc7df/BQ+RfYRZW/X5/eg6dnBwSRuGXg4pSVb/fT8gqnShCSCgUunf3zv0HD8UqT8Iz8xGc4dREPQnfu3uH4zhudgpnmJC4f2Sw8KmT9Crmd/HgiONEjVzvEFamcPns08+npivKS7MhmVyUh5mM8vfu3vmGIV1udure3TvfxYowTL1kiroJmtB7AdXgOA714GanvouR+UejdBR479y7eycSieCNAzUFIWydIgyjZCKKh35uKpYlmQYDE687LnIc1+W0P1dZBzd8lB8b7sdM/L1uMDBxwPmfwmTAUcAqIRMDvVt2VN1/8HBsuP/lHQ6BJuLH9++b/OKbmfGhmsPNKeLIbQ6htlH45a4pOfgj26/efd/v93d2dcO9HeU7u7o5jvO5XW9f+QMhZG7y9pYdVR96Px4b7hcX+1G+0d7EcdzlU9VvX/lDOBwmZGnvrt04da87LuahRkmbFAkOMI/7Dx76RwaftdmQTLnZqR/+08/hoYJ8FOVffXEnWs7lU9Vf8fEkP2ez2S70efx+/75tL8zMRwghnp72D26NcrNTe3ftZhk2v0nQSabLwcCzTz+Pmlzo8xACpPmh92O8cYb+8pgQ4mqpamq7dv/Bw7MNOzBnbvL2hT4PNzu17V9/gE/K5WCg5nAzx3Ej1zvev/lZfjqvZ6sioZ+zymVJpq6WKtEiGVMOBiaQC+gcNFRu/Z6Q5WAA8ycGeqkpeN6pGf/yu7nJ2+/f/CwifC6fqka7p81zShiFX05KYuWDP7Ip7+dwOByLxY7V1H4vkKn0HCL26tcw5/d/nCaEBAMTOIc4mTh1Z2sr6cInD31K0aQocKB5oHpXj70onZku/WB7E6uzdAKwVHO4GR6r/NwP/+nnWEF8oq8svrT/JM4Va4SskJzS+snUVnFcITkRDoeXgwF8BLpaqnBcy8EAgu7paUfz8PS0I6yulqrJL76BJ2iUp0NTiN1AGUVBP4/xlCWZnq7+n9J2SVx14n0uI9O5ydu//+P0yPUOZMmJgV5kBELIyPWOob88nhjobWq75pU+SorRP6FG4adfQ1rz4I9sPL0QHjatLc3uGzfv3b1T/cpOXiBT+tRBMiVkad+2Fzq7uqsOHMJZGrnecaHPI82cV4KDkWtosihwsAYjMSYhyb/LyBRpiD5m2LP7JD+31X41yc+9tP8knavCN8v6yVT2FmFmfKjxtNPr9frcLixytVQhY1IyDQYmnqusu3z+bFPbNcTwbMMO942bqP/gR58WsoFbH6MoCvp5qFqWZDrU48AtyXIwYPvnXYguXZkyf7a81FBX33jaiRUmBnrpguv1nz31FR9njgII0yqPaSyzbT5LpvR2ImTp32z/kpFMk/xcU9u1cDhMb6S5ydv00VXg1OUz3VptinI74WkSdnX0FdzmE0KWfvDf9mImHXiX097a0oyPGdzm42GptA5dqvnFYUnlhJTI/ztvMq146hnsdTkYeHmHA7f5uNSgZDox0Dv0l8fCSY6oIb3dCCn0Nsl/zLm0LAr6uXQo1i1LMiVR3l79WtWBQ51d3cxPo+L26tdaW5rZ00/2lGdioLfxtLO1pXn3tpc/uDWKEwCZ9qbWluamtmuUKfKYR6Pwy0PVHba0lWkwMIEzea23wyYUsUT5+s+ewqMSnCWcXmQKT087nbo81Chpk2LBMTHQW3XgUKO96dzJWnx+E0KGehyN9qaGunp6uBEMTNA1YJKfe/rfD1w+f9Zx5ODrjotoVPOPRqsOHGpzOhvtTYVsgHDS8ibTkesdjaednV3d13o7fvL8CULI1WMvIpkmv/58q/0qIQRXr60tzY4jB6UNSvzcydrG007HkYP0xikpfAUKLxb6uapRnmQqjDKZTCpHK8uk5z5EeAFFt/myhrJWslI9l0bhp0c3PXXUZ+DyqWpKAZ53apjD5YR6Qz1dl6JOUeHIsJaUjXpu8jalWtzU4ztJ2dBkrWSl+i91kmlGgUnhk7FIyFx99cWdtLTqwCG6wiiW8lR46RJFRT8HNcuYTNVH2eW0N9TVsw9S9ghMvW0epUbhl4eqeTRZDgYa6urbnLCux/fCeQhZzybrBsfYcH/VgUPstga2+Rle+xRz9IWQqaYeY8P9jfamNqezoa6+8ONdze5KUWHd0Jcpb1oylY2z1JdG4VfqcZWpfHPDUVIyLVPEWbWNQt8iUxaF/NNG4Ze/xqZuaW44LDJVN16j0LfIVB0XvaVG4adXv01Wz9xwWGSqbs5GoW8MmYZCoZjpPqYcVPmiZGI4FhYWIpFI+UKzDppvorAlHMfhH4SY6X9TDqp8ATIxHKFQKBwOly80pdY8HA5vIjI1ZKjqW4MCS43aWRSotlmbmxsOa5uvbrdGoW/MNt8iU3VrsEoLnAGjbqcC1dbZ3CJT9YkyCn2LTNVx0VtqFH569dtk9cwNh0Wm6uZsFPoWmarjorfUKPz06rfJ6pkbDotM1c3ZKPQtMlXHRW+pUfjp1W+T1TM3HBaZqpuzUeibnEyTn/mSobD61Bel1Cj8iqK8+YQYBUfy68+T0+D4taQfi0zVp9co9M1NpvHECVti4Jbq1K+C9T9JEW6Sn0u4WxJ9Z5Lzf1NtmFZoFH5pShDiHxmknvGgKMpfPn+2taU5FZKExDGH9VogE6L/kpudarQ3pWJzRHlPT3trSzMVDi6IBKdcbKZ++XnXNAqOhKcx8W6rhtrfPk4zrSif9F1JXH0zOfn/NBpKxfrJ1Od2NdTVUycskoA8vhM+tws9M6DrE3TX0NrSTJFN8nMNdfVsTh7dFKWJUeibm0y1oQHqfMOW/IdUM8onjtoSw39OfuZLy5fKs30bhR+rj39kcGy4n3FdHD9WU4tu4i6fqkaH6tTJcYGRBTAGxuBHn+7b9gIl03Mna9E1xsj1DnTQlUwm0ekn6xOT1blE6Y0AR7ahJc7YWN5M/Hpn4re/SX79eeKELflfX2VrxebrJNOJgV58slL0WSE5pYd6HAgodc9InWHH43F0KMU6FKaeXnPqpViVjUK/DMh0bLj/Q+/HPrerzenEe9XT037/wUOf29XZ1c24g0vHYmUx8d72xKU91HCTY79L+lzJT9yJ97ZjZvLLP0GdMzb4v+8MtI/yicMCt64slh2Zgv7pfuCpTVOPWSyZUnec6ROX2xXGhsE2tDt6X0my4tWv7KScK2WW8Fv/7TT/aBSiJI0Mtjmdgx99ig49aQ6zok/TFrjv0h4Ci7R44tc7kQQTrl+CvflcWBWe05f2JKenwd58LmCcKJ+yt/e24wEUkOnwnwkhQLJFJdOztZXoONHVUpW2X0kbiq4LiixZWUSfWHOTtz+4NbqwsECLgoGJD26NYvwbXUJLVkk/+sVVoQzIFD3achw3NtyPYXbAO+9pJ8dx/pHBRntTlpgZa+RJGGxXsFTgmU+7E0dtyenp5F/vSUSZgPRRG5i1tNPHHLahnhlff/y42Sm/8Enzk5ZOplRzJkxTvOKpZxrq6rO5dqVNdCZYMqVNKGVjDl3O0AqlTuiHY/7RaENd/f0HD7nZKfT3PDM+hN7nuNkpx5GDadMr6Q2P4aM2kUwpCT4JJwfP0W0+kOlh4ZTp28ew6sRdfJQXV6ZPwkJziBkFm6FLe2hDqZOs3/pWpqvo3n9ioNfv9xcr6KEUOwCiLj5XWef1evfu2o0LmrnJ20//+wGv17tv2wsZJy3reIpdoB/94vZcHmSKZ3B4TMMLrs6lU7m448jBrItTQuhjXyRTPM9aWYTlp3AkCksM8a4QJjbKg91PTyfHfpdwVKS2/1qzvv74YczeVMxh1DATmY5c75CmSwx+RaJ8UcJkEkKUZKqkThq1TWsWi1auH475R6MS0YAtYbzVt96+hKpgVFGlWozZxNkVJTywpTNTJFM0IbBD8ewezvHZFSisZwduATufEG1S2Z0sRx+ZrtX84rB/ZHDoL48xFJVMSB6Xy8HAS/tPYkO6IGViXq2JDqRXFjEmSh5dFKWJfvSL0h0VUpZkypj4EkumsZg8KnlmMsW9PJJpaokBcwIcKt0MsrMtOmUZE0bhJ1dGQab04EwY3t+p32I29KZcSC7XMjJl4yZJYuKvbNlOHbZLmaX91g8HkqmgHtjS5BffzE3ezkimlD7AToRnsMAdCZYcdZDpUlp94cheXKIOnkv89jd65kUfmUJIEow7ojh10dOJvM5yMLBlR1Wms5ol1iE/Nvs327+sM+KsuvrRZ1sVni4PMkWbWA4G9u7azQtRyBvtTXhs+rrjIgKMpcyLyzg9riLfQohwauiwZHhDWgVE+cQbsBdL+q4kQ2G4SfDyEzfU0f2zKqPwk1tAOpnSTRkhBJ80B39km/zim1gsdvlUNTNXVMzS5fNnaYQSIRfe/qucrrJkyjIpfbApF6q0s9Il9MPBkunx/ftwZdpQVz/40af+kcGGunpp3wPr1lSUAWo2g+dgl4Nnnd8+ht+BtNXir6NEMxPebTIrU4IH9PCGEw6ghB+cdF6ES3oUoDUvOslUmvl4Q+XWjAh6etpl+3FlDuqyHAxUHTiENxo+VCYGenG7Q8OsUWNLe35rjaUU5frRL27vZUCm/pFB8T1AlHffuPm9QKYfej/2jwx6vWyQ4bjX600ZTZRPuFuAIn1XcIcFh6G41RJ+jEKJEn4b6LsCR1r4MP32sdDKRSvomXGj8FPotpS64Unc09Pe5nRiuBHxtony7Ks8RfN4Z1d3+hn0ms/tSqfXtEY+t4uuVlAydkcPFsaG+yU+SmtY0gv9cHCzUx96PxaQF+1nZnzorbcv+f1+942brOb+kUGWekSzmZ5OfuIWj4wEY0OTg9GhmQlkCnXo708x3+cSj+mjPJT6rqQqaE2NTjIlwk/lWluaWbVZ2T63S1Y0Ntwvy8H6Y8P91JCogflHBltbmvGtHVbDnA+9H7O9rH9aP/rF1a0MyFQ5YGabryw0Jsco/IwZ7YbvtRA4kEw38hD1k+lGHkXpdCsE/UK0KksynX80mvH5WchEFNjWKPwKVNuszQuBg5udYldbG3CKLDJVB6UQ9NUlq5eWJZmqD8mQUqPwM2SwG79Tc8Nhkam6BRqFvkWm6rjoLTUKP736bbJ65obDIlN1czYKfYtM1XHJodR8Hq9zGPzGq2piOCwyVTe3zUWmHMctmO5jykGVL0omhoPjuFAoVL7QlFpznBx1wi1FqTEr01AoBD/8NNcHl0LmGlMZj8ascBBC6Mq0jOEpperxeNyQfYkxZGrIUEvxLKIyjdpZUAWsBDsD5oaDkik7ZCtNZ8Ao9C0ypRAUlDAKv4KUNm9jc8Nhkam65RqFvkWm6rjoLTUKP736bbJ65obDIlN1czYKfYtM1XHRW2oUfnr122T1zA2HRabq5mwU+haZquOit9Qo/PTqt8nqmRsOi0zVzdko9E1Jpks5ec+jwIA7HMlFtJSZIE/CopdGKSvj9zrgFxY+bO+RSCQcTkWvCofD+KMTmbdz1h06uo/CX1OwovJLx2IxxbvE1YWFBep+LRKJUJUikQjtJSJ88BKFLCwshMNhtg6tnEdiHeBgtQKf0J0X2Ry9abm9EbBAOn1ZpORCpmsKgLIIzT07Fosx5pdgzQ+FKXMIIQsLC6wnHWohRdRzndGnM2dKMiXgg0fde16UhxBmNPQTiUM4kxM21qEkuFA7YYN/OrxElxq/kesdv3r3/S6nHb0REvRDeNp5rbdD8m1MPD3tnV3dnV3dz9psGPGJRPnj+/d1dnVXHTiEFhwMTNQcbva5XS/tP0m9PVFryCkRDEw0Sgrg7T8zPlR14BB2h46mZsaHUCV79Ws0coanp73xtPPcyVr0ATj/aFRZJydNlJVLDYesx+Rf79HoOLIiegk+zJiQeeDs8b3ticPorl+ohUFNjtog9INqMEe9ZCq4AO/s6q453KzFz1RNvQkMlXj5/FnRIFcWn/nxTxFHyWFYfNu//gBzqB+pLqe9s6vbceSg5P5xraFyK9a50OcplpLrjD6dso1LprhOYdc+4XD4uxj45VR9iK2C91L28f4EQ5Ik0KspjPxJGNzxobN9wdWp4C3NBaElU955Bae/aP3K5QOdPylRavzo6lh0uxvlqYF63qkRqVNUBpwxY9LT0846kSMEHAYjzckii0jjyOGbquRqqcJevF4v3g+SJ82UtMunqtE7IuuomErAelROqlm+KU04pFXVaigUQp2lZX4qJ0PnUV6yIsGcsCXaW8pI1sQ63z6W1phgk+JuScqE5/0nbjbKA5hfvxc61doM6SRTCjGNb5hhRPllrSxiACH8tTj8z8/Rh6UocmWR+tiWd5L8+1b7VSEz3mhvkpcWfK2JfsE9ZBawccnU09P+q3ff7+zqbqirx2cd9c7ZUFdPnSrKhgXLyatvAlFKqwDwCe2ogMwzNvSiDyEiLu2By6tvMuxJYLMmkSksHBwVEL/Ep8ux6frgx3pfpgOXBQVhXOjHG+rqudmpzq5u6uYVaS4SiTTU1Re4MhUViPLHamrZjRshECCIrqChGhPHAoMhdnZ1yz0zrSw+V1lHB1VgQhMOXFhd6+1obWluartGCBkb7m88Db5fHUcONrVdk40I9RHig/1fIb1E/YuDQ+gzNrrNR5/Qib4zsPDE8GIriyl7u/qmxLCiu37xUgiLC/bGej7NMgs6yfRIhRDEMMqfO1krZ7osknVmYzQ9n9sluYIly8FAo72ps6ub5iT5uZpfHGbrUOHUjTQhS3t37fa5XRf6PBknnDbJKaGJfk7S9Ffe0GSKjEkZxNPTjjaBEbopQShHy56ZYjQnMFk2WsnXn8MOK/2TRqZCoD2IwfuJG6g5dSCQ3ka6Ki5+EwO9VQcO7d21m70HPD3tu7e9LPM9uBwM7DzUJmkB31ePvSjNDMTO++DWaCQS2bftBSlz6fj+ffbq19LIjm2fS3r+0ajjyEFWSWy9b9sLrD9pGhuVEOJqqXrdcTESiXh62tmgfnL+zUUNZV1NOJBM4QaO8o4jB7/i4zPjQzWHm4UHzBo9gpBJzkimYhAH6cwUyFTyvc+EZRRCP6Vv3jH2CZIptDpqS/SdAZf7RyXX/bLupUt9ZIoB9RKtLc3FigEl9U8mBnqfq6zDSUP0l4OBC32eeDw+N3kbV51Jfu5CnycWi82MD9GTKEIgcMOrL+4UrXFlEZ2RBwMTz1XWWdt8OsM5JFT36aIc6gEaj/lWCQSDk45jEmdrK2W0wnYvJ1MM64QPfxr6SZ1Mv/xTwlGBMllpbC9sWvPuZSsXkm6o3JriKeFQLO2RvrL4g+103xTH+JS4VETmomHuixjIfuR6h3QEBiO7fKpaBg2NOYxkSm8k5h4jZxt2SHRfyPSIbTXhmBkfwgUpeRLGMGIz40P0qUBtT6YKkOlbe4TM1Mo0M5nKopUwtkdlsmRKmNDi8FDH/T6tmp7QR6bk+P59bU7nN9/DHvyA8z/TZRR0NTHQSxE/VlMr2+L8x14bny6eNQChJP7s08+nV4GnrOxISlZB/6Um+vpF5VRTvjrLqXHelfMmUzT3JD93rKZWuvfifr8/jVAwBDnd5tMYeYxBgx2/IYbqTW27mG0+LGPfwAWpcHiavqZQDrzU+NGQSvTwkUT5hrr6FLEKOsnWd9SIRetfWfzJ8ydQeVlNOiLZOSbNVyaoSuzCs8tpp7cZNknycwy/w6IGaT3Jz6XIlDkHUHaUR44mHBnJVFqZJtiVKTc7RW9yOCB6A24Z3MvT10RwlCRbmcrIVIj1JIaKkhZgaWRK1uCZLcSSgnilUnzyjGPXSaaed2oQCzrnGaXBcJLJbEUZ84OBCYmd42I0vShP78GKp54R6DX1B/JHKnZiKbWZ3bb/LkzDGv1hCRONPGOfOWRqop+DrFyqlgeZvrT/JK5MW1ua25xO9sxUFkcPrPzqm/AK/r3tYugnGn0X+VGkRYjQC9XwVEuYMtkPXOAOOSrUkQ5SVSa2xPgl7NWvfej92NPTLhFQ/OCPbBf6PPfu3vF6vfRu/4+9NpomhAQDE1t2VPncLvo+d+R6R+Npp8/t2rKjilp/alwrizZbmgRC4jb624BUPUiNXO9oarvGihrqcby0/+S9u3fYANTMARm2X7JXv+a+cfP4/n3S4xAYtijHDlRBTThSsUmYlWmjvQkDWDW1XZNWW/H0A0fBbBwVibZaGplZPDM9IWzSk0mRZymZSmtMsC7BnFKn+aknOigOTH3UBmbZVksf8HREbEInmeKt4fV6n6usk4bDihHTy8GAzWZjK2BOBvNgWnc57b9693361KF9nTtZiw9LzHHfuHnuZK24oRQ2Ul6v99zJWhHuKL9728vuGze7nHa6LWA6yTOpiX6ecrWabVwypb86jMVi+PjCbb7ybT77w0ZChLf53z4W3+kL70alX48Kr1mldQEhskvhJ36pd7LCzD0Ja/zESprfdcCPEz5Sh2t4if9Tu+c4TqogfsdiMVnmwsICx3GpaUhvQFcKNHthYSHbykUmKhQKUa2onIWFBboekWQmOI6jOqMbJPZSqpb/tyYc1IqSySS+0Je2+XH6fh+7j0Qi6frDe3yYEOm9PCToP2jD2BW+6KfjkF2SuCiKVngSBlFaH51kKoiJq2At9ZOgYNEcPXtHjuOY35kSQlZlsBICQCvryISjs0Sp6yJ8a6JfhD4yidi4ZKrUdqjHUdz1i7KLvHOMwi9vhc3dMA840t+TbOjpyYVMN/RASqRcHugXRZNyItOY8CnKsIsuxCj8ij4QcwjMA45YLFasv78q9RxaZKo+w3mgry5QZ2k5kanOIRlSzSj8DBnsxu/U3HBYZKpugUahb5GpOi56S43CT69+m6yeueGwyFTdnI1C3xgyxQPvUkYuMEA2Hqsb0LHVZaYZMCscNGxJpkFbeTADmytsiSmDnZlyUKWOfVY6+SaGwwqop8ds1FevpSg1ZmUq+21EKQa2/jJNOaj1n8Zi9WhiOKxtvrqRbK5tvvkM3Sj81K1q05aaGw6LTNUN2yj0rZWpOi56S43CT69+m6yeueGwyFTdnI1C3yJTdVz0lhqFn179Nlk9c8Nhkam6ORuFvkWm6rjoLTUKP736yeuBC2R53sa+1vFnkakBlBscKc31pDYbmbJBbvTMj1Hom5RM6d9N65n7YtQxCr/8dPe5XX6/X+6eOT9Z69JqbLjf7/dn8wiuVGG94dDtw0Gpah45m4pMl4OBD70f+9wu6hZHc8bWG31JIVOSKfiaVHdiRghEymN98yS//hydnKecekR5yPnMx1aT5k3+bRR+cj10XS919fgIIZ1d3bqqb4BKqOrEQK/M5WA21dYZjsSvd4KrJ/WPGD5HqoTW9Ymb8aQTT37mA5NTD19GyKYi05nxIaDRlUXJl7E0gdm/1xl9qogpyVTw/0SHmCnB+kkT3VM6KsCp/nvbMXIJOjxN+lzgYM1RocmnxcAv7nO7Oru6WR96St252Ska/UlZijnLwUBXj4/1C+UfGWxzOqnk+Uej7hs3Re/I2aToyEex9x88VKsb5d03bmo4hYryXq+XrcPNTrU5nVTycjDgvnHz8vmzG5NMwVMUO92ZpoO6K8XCxHvbqXVBHIcoDw4h+84kfVfE6GSZhGCefjKdGR9qczplvrqzC865JBiYUBHOzU5dPn/2Q+/HLLLKPvwjg2lCovy13g4a/oSQuNfr9bldbFwGpRA2pxg3IytPb3rjkilOsX9kkN6KNEd246WNNcpDGEjflZTj3i//lBj+Myw8pUwgSncL+KP0XUGfp1QCFIkO9uPJ6WnMh5qC115aTZkoGL+liqeeAZOK8vbq17LtaMaG+6/1dtgqjisVoDkYEPSVLdvp3S2Gt4vy6dFEVjVJmcrMmDhbW/nBrdF4PK50CE3rBwMTnV3d6f3SQjGxHAy0OZ1MYBVwvfxcZV0kEnG1VKF7Y9wu6F9Ka8LBzU4NfvQpNztFvcFys1P3HzzkZqfcN27Sp45MV8GKXEJmHMxMWEKCXfmupHZCUR5yQmH4Hz2UryyKPk8FrpTRLo0llbI31y9lZilTQyeZzk3eft1xMRaLNVRuzWZRMsm5XUZ5m82WjePmJm/vPNQWiUQwUkYWyauenvaUe1OhUkPl1pn5CA1/AptIIapYNlCUkjXRVzYpSs7GJVMICGxvuv/goaenHddQNAe9HWd+3EX55PQ00B/raf+oLTFwC5w9o3f9J2EMDAnxyyTGJAQ2WbBekBri/MrWsNkmvXD8qMsiWRQQRY9LL+9wKDLlGdWv7KRkenz/Ppwrzzs16MOQfUTJW+q+pgqzAUcztj7bsENzRZmKICC4nUYOpXcULqX1M21g4pUAABELSURBVIImHDPjQw119R96Px4b7sc42Jjzwa1R/8hg1YFDGfvKHAPq28cQWDTd036i86JQGR/DcUifEIxwepqSKTy50wLi4uStytawyinVSaY0zkKJfFeeO1mrumBcjcfjqLwy5CI7KDbow3IwIPnwX7LZhPAnws6G7lHYhtnSmuhna1hg/oYmUzwloTGgmMg88eP796VtDdKngY3aBAH1lDGglAH1hAUF9c8vyQPLTi06pFzld674RSKRkPBJd50LgjXiNyT/LiNTiA132pn+aEkwZLpUdeAQRt/0er1F9GdOJ0GL/SG+E0umy8FAQ129bKHBkqmrpeorPo5be9lgaafqCU04UmFLhIB6M/MR1p8pY2lp/WQmU0J0hS05aqO7JRQKD293S6LvDKVXQgjLy2l9Mxf6yHQNI4DNjA/du3tHYihGSmFJDIQzN3k728qUiocwpYebpcu1LqdddvrJkqmUTrQ5nV1Ou8xIJCEa35roa7TPt7icyJQJqFcwmX75J2V00lRsHzEWaRy4VQo7oT7DueLnHxns7Oru7OqWGZZ2AA8FmXreqVHEGpGT6fyj0d//cZp57KuPJofS5WBAiqSStZWMTOcmbyu3hzIy5TgOtyM0aFVW6ZkKNOFIkSkTtoQOpPhkysQfk+nLPq0htMm7ralXoLKq0qU+MoXopMHABOxFUnHqJRGFfS8HA2+9fYmQVEQvFXnnTtamOFGIi8PGBJMFBscg0p6e9u9iZKjHkWqo0oGiSBN9RYviZJQZmTaedoZCIdyIiWuxKN/a0sysUtfIk7BooMJGN21lelhcHYib9//6Ct6f/kOIYP7b30AMiU+7xddNUR6EvNsK52LyaBMZpr4o+EmRMzLIT2UpyJSQNcWf57JkShoqt+LuXnrsp4QVmFoOBqoOHGLDB2UUKCNTQojyV64smY5c78CoX2Rl8aX9JzPKVM/UhENJpvOPRhvq6ie/+IabnTpWQ+//OEus4mvJ6WkwKsmWyJMwkiBGx2HPheAt/8AtQVUheNTALTh1hZOleKKtFk6ZhB2SGEfP05hwVMDq9dvH6i/09ZEpbHFwI6J5DqM+mcpSPHBrbWnet+2FLTuqmLtPXld5nq4IA0NYswwGJp59+nk8Y2GClsvFql9roq/ePO/SjUumPrcLD0qCgYmmtmsYUO9Cn8fndrEvpkmUv3z+LH2CgSm/tx1i6kmLStiaYUS8KA9HolKcUbgfhDeqsMmie/y+M+Jbha8/T1zaI8phWmWb6MLxY5mUrk3mH43KLTUDmSqVWmO2+RD5DvdiZxt20IlSthFy1hQv99bu3b2TfoYgNl0OBmicPqrwcjCg/PmqkkyVvbNkGgxM4CJRe52uFCTkaMIx/2hU/NXqkzDaD9IrWhdzQpfwuV3siNBsEsN/Trh+KdhSAoKJXtoD/9pqwQGcYIHwgh737FKcUeDNS3vgfT2+tvrMhwYmntoLxgn2dmkPmK7UKuP4dJIpnb3Lp6rHv/wuoyjIjPLMq3OhljInS+P0uKfw2p0xlUSX006tl1qIUhJLpoTEX30RQpkuBwP5nfBgsFXF8kLZbfFzNi6ZKsfKbPOVhQbnaN69WvrFj1TsxNCY7EJ7YqBXdg5AVhZxh6UqMNHa0kxfQBECy6uGunpZEOZMEuKOIwfT371AeM70HLFdl9PeaG9qbWlubWmmSuKTTybZ09POnpnKSvFSVmdsuJ+NQZuxiUpmHnCwZ6YqkjdCkU4yBTIXcKfoZFQezjR/cZjdXuBjkqHFjO0gc2Z8iDGqpeP791Ggg4GJqgOH0KQb7U0q0oKBCfbgdTkYaG1pVm+SVSGhIA/01QXqLC0nMh0b7meWDDoHuE7VjMJvnYZXbt3kAUdqrbrhB6ubTDf8SEqjYB7oF0WRciLTogy4REKMwq9Ewyl3seaGwyJTdfs0Cn2LTNVx0VtqFH569dtk9cwNh0Wm6uZsFPoWmarjorfUKPz06rfJ6pkbDotM1c3ZKPQtMlXHRW+pUfjp1W+T1TM3HBaZqpuzUegbQ6Ycx6GPQjP9b8pBlS9AJoYjFAqFw+HyhabUmofD4U3006hQKBSPx2Pm+phyUOULkVnhwDjG+NP38kWn1JpvIjI1ZKjqW4MCS43aWRSotlmbmxsOa5uvbrdGoW/MNt8iU3VrsEoLnAGjbqcC1dbZ3CJT9YkyCn2LTNVx0VtqFH569dtk9cwNh0Wm6uZsFPoWmarjorfUKPz06rfJ6pkbDotM1c3ZKPQtMlXHRW+pUfjp1U/yZ4H11f3J5yBz3aoKHoLx78fRzyn1oJFRhTKAI6Pe+jI3GZkm/CODkoMeCO2j+TflRqFvSjKNJ66+qRloRJ/d6q1lFH569RO83tGwH5igl/qFGFVzYWHB53bxQvd6lF9nOMCVlOhqbz1maFORaSwWo+5Uxob7v4uBdxWJWzPP9jqjT5XYrGQKPvdc6CcN5wI8p52xQVjTzous53NwVYke/OicZUoUgp+KdzLalZ46tDJNyFq5b9zEoomB3taWZjW3bFSEVkLWRcbqeuooG8paUTKdm7yt6QGrEDiUmmjmAJlqORHH2LeMqFVwqv+GDXyYMuFIwWOkGIWMqZuezIlMZdOYLqnkV0XpfTkYQN9UM+ND9x88HBvuZ1xVZRjCOqNPNdi4ZEphUCQSNIcOg0nIS8HFZDKJXg5pNdHL7z+IJCouho1aJUxUKMFp9Bs2zfskbxeKy8HA3l27HUcOovNmqh6bCAYm9u7a3drSTJ2HsqViOsp7etptNhvjSA2c6TXU1b/19iXqi08i0yV05VnoyjTKo2IqoVBwgK0tzVUHDlHnbAr9Ye9ms9lYR3/o3++l/Sep6zaJTOM4is6ubjouhUCAVf0XI9QqaJwiZU5GsZLBQBdKuxKaiBZIawqZ4Bxa2C1BeLhUeBK0NzoSjFGqFTVaL5kKEVkcRw7SCALYdTH+h633szabOqmhD+m9u3arVJt/NPr6z55i7X9mfKjqwKG9u3bTkxxKpuhWfGZ8SH0doIl+MWYgg4yNS6aenvYLfZ7L58821NXjKclQj6OzqxtzsrlohAXmCRt4QZfi4oHz/LZaCLZz2CaGccboZmds6EsfqPDLP0Hc828fA5NSyyZrUKHvTOlWpsf370P687xTk8U+EpQ10h3xpmHJzU6Fw+H6/7OFkil1CE0ThBCJPeNtTqff7xe9I6dJyuECIzURJv6dsjH1Upr8+vNsYYgWFhY4jmOdQ4vhVIWYlJSpPT3twjYfJsTv99NpUXaq59mGgbN8bhf1mjo23N/Udg2t60KfJ2UFTAcZY0CBL+ejwoZGqAkW+IYNwjifsIG76H8QsrIIFdDejtqE/VA8cRS4FQI9MMtSWKv2nQFTVP3oJNOhHgeyGE2oSs2lMMpzHKce+yvJz+081AZCVxbFRIYe1jiOmxkfSpFplH+usk6oGLf98y5ssRwMoMNTbnZKE3o96GdQpBhZG5pM0cE+9dqLYUpXCXjhzhY/EudEHlDPUQGxSdDKBRfoGC6CTiBs04So5eDqXPCXDpAMnoMY0WO/KxmZxjHkmSwMDtVKlkh3SJ5QRuKr+8n/pmQqRaaEOMyUxWg8UULiHMfJ5Od62VC5FbtbDgYo5WUTIgs/pVSeJdOhHgc+WmC5LcW1jkQiEsHBHSilM3eouTYBMrU3Ydi+YzXg/RpzYPksLOjosojtICOZgql82p0WnfSo+CwHAhV95gtbHxrlAR/5bbUQI1oKfwLCOy+CZRaJTI9U7BQAAvfemgCxw9SZVidTQiBQG05siisJiUQidDeAHbGGTSOszIwPbf1f/0ParKzGYjGhckITeotMM8BHY+/Q6KSMp/2E48jBjOaOguRkqoxOmh5QDxhTtGDR6MVzgPm/AaVKoSYyaCllad696Ja8zelsczrpknCox3Ghz4PrMtbgJKlp3w2VW+lOeeR6h02xyWLJ1F792veEXD5/luM4JjZkmsACLyYGepvarnEc1+W0a96rbOQMPQH1vvme+NyuUCj0ypbteeipCUcqBhQTnZQ+dajtyboGvntrj5C5ROPdZyDTw7j8JKkYUOkB9eC5Tut4GoVzpCU8aIKQpRgJStY3c6lvZQoB9YhgA8vBwFb7VUZAcZJaZArBnV59ceczP/4pPashOgLqvX/zs2Bg4oNbo1ZAPV04qZ9noQhq0CyZijS0ssiEPIOHlexZp5NM6akWUOdRm7DBX4L91/zf4La5+iaNAaX5rlbz7iWExGIx6uKBTtP8o9HBjz4dG+5nIzfQUpq4fKqaPXgKBiYa7U2UW7EaS6ZnG3Z0dnXPzEdSuy0qq3gJbnbq3t07adu0TMJHrnewjwrNUM94niOMdzW/QECacKTIlIlOSp86bBg4PELBYYFV4NuhlcX8yRQW1Wu4zadxooBeqb2dSR0aZJpOoo9MybGa2mu9HV/x8SQ/R58TGQXml6lOpnSNuRwMMFERVzVDPf/q3ffxNne1VKm/tc+mtib62RoWmL+ht/l4MMqSaUNdvfvGzcvnz+IJABG2/OwJd5Kfg62TsGfHY1PYgtGV6RtS7HJhpQBnqWdseGgFYdHaauH8q/MiO6fr8DafEELPH9muadrT084yKc2XJVgy9bxTg+zM7qFk9Yt1OXK9I8uBL/RAw7qpd8du8ycGenGpm+Tn8nt5onk7zYwPiaG0JDLF6KQX+jzXejuYAERxe/VrqXU3viASjjVhISls25OfuMFsHBVJnwtWqcxpEqxMpbf8YGCOCojhKJzmAy8ftgGBiqeo4vTA8b24+M06YTrJ1NVShWZTIhtQJ1O29EgFxMjL9mHVS/JzP/ynn2NN1p6ztc2Yr4l+xlaFZ25cMuVmp8SAwFHe7/fji44Pbo1ywocZefrKNMon/3oPguhOT0OIZsG4pRf0q8m/3ku9X3oShmrM8b8UhpeRTQgIEeSk58qv8sNv5HrH4EefenraU7er8D6H3ZQN9Thed1z0Cx/1g84dzNv85WDg1Rd3+v3+V1/cKVvAylVnr4VdWPpyIP6szZaRKzHY39hwP8t3sIWXTjmRSW0VxzmO8/v96r+1PltbKR2Qwanl3l277z94uG/bC+nKsLqqpTXhwLdegog1v9+Pv158+8ofIpEIXlLpHMelnfBGeXxLmfz6czG2sxC9WTQ54Y8jqJmBRaUMbBUupWNTkC9/4Sn0KZgl7T1jQieZLgcDz1XW+f3+V7Zsp4fpSoHLwUD670DgnYTNZlOhPxTC0iXkCMZDQVwOBp758U/v3b0jM2+lAiyZwrnEqeoPbo16etrZ3YyylUqOJvoqbQsp2rhkqhzVUI8j20t8ZeV1zskXv4Tf75cf/kZ5Nqw8vsHUQ6Z+vz/ttYzwENK8JWQTpTzg52an0sQyDVA3JgN4kGV8Vnn5MNOaEW52Kl3VuIzU0qtrXOUBB33PqSF6AxTrJFPQVJcNKN9Gwis+zYGGQqF0yADEdFMBELVFPQnL6nCzU+rWoq5bHuirC9RZWk5kGgqF9By26hx5casZhV9xR2EaaXnAEYlEZLf0hp2NHMh0w46hlIrlgX5R1CknMi3KgEskxCj8SjScchdrbjgsMlW3T6PQt8hUHRe9pUbhp1e/TVbP3HBYZKpuzkahb5GpOi56S43CT69+m6yeueGwyFTdnI1C3yJTdVz0lhqFn179Nlk9c8Nhkam6ORuFvkWm6rjkULphX47lMAYTVTUxHBaZqtvp5iJTjuMWTPcx5aDKFyUTw8FxHP6ypXzRKbXm7I8L1Zm3iKXGrEzRfZn1vzUD1gxYM1CKGSgiReoXZQyZ6tfPqmnNgDUD1gyUxQz8f3VpTepIA49WAAAAAElFTkSuQmCC)"
      ],
      "metadata": {
        "id": "Y_ZqiXm6glyB"
      }
    },
    {
      "cell_type": "code",
      "source": [
        "df = df.fillna(0)"
      ],
      "metadata": {
        "id": "biKT94J1h7ip"
      },
      "execution_count": null,
      "outputs": []
    },
    {
      "cell_type": "code",
      "source": [
        "df['PassengerId'] = df['PassengerId'].astype(np.int16)\n",
        "df['Survived'] = df['Survived'].astype(np.int8)\n",
        "df['Age'] = df['Age'].astype(np.int8)\n",
        "df['Pclass'] = df['Pclass'].astype(np.int8)\n",
        "df['Parch'] = df['Parch'].astype(np.int8)\n",
        "df['Fare'] = df['Fare'].astype(np.float16)"
      ],
      "metadata": {
        "id": "ZRHJhawQeIax"
      },
      "execution_count": null,
      "outputs": []
    },
    {
      "cell_type": "code",
      "source": [
        "df.info()"
      ],
      "metadata": {
        "colab": {
          "base_uri": "https://localhost:8080/"
        },
        "id": "5ENKR0fNh6G3",
        "outputId": "76897f09-83cb-41e1-f885-fe89e56c7ad3"
      },
      "execution_count": null,
      "outputs": [
        {
          "output_type": "stream",
          "name": "stdout",
          "text": [
            "<class 'pandas.core.frame.DataFrame'>\n",
            "RangeIndex: 891 entries, 0 to 890\n",
            "Data columns (total 12 columns):\n",
            " #   Column       Non-Null Count  Dtype  \n",
            "---  ------       --------------  -----  \n",
            " 0   PassengerId  891 non-null    int16  \n",
            " 1   Survived     891 non-null    int8   \n",
            " 2   Pclass       891 non-null    int8   \n",
            " 3   Name         891 non-null    object \n",
            " 4   Sex          891 non-null    object \n",
            " 5   Age          891 non-null    int8   \n",
            " 6   SibSp        891 non-null    int64  \n",
            " 7   Parch        891 non-null    int8   \n",
            " 8   Ticket       891 non-null    object \n",
            " 9   Fare         891 non-null    float16\n",
            " 10  Cabin        891 non-null    object \n",
            " 11  Embarked     891 non-null    object \n",
            "dtypes: float16(1), int16(1), int64(1), int8(4), object(5)\n",
            "memory usage: 48.9+ KB\n"
          ]
        }
      ]
    },
    {
      "cell_type": "code",
      "source": [
        "df['Cabin'].info(memory_usage=\"deep\")"
      ],
      "metadata": {
        "colab": {
          "base_uri": "https://localhost:8080/"
        },
        "id": "BIfKJFp-iCm1",
        "outputId": "090992e4-6363-4821-a423-0f56f932f0ce"
      },
      "execution_count": null,
      "outputs": [
        {
          "output_type": "stream",
          "name": "stdout",
          "text": [
            "<class 'pandas.core.series.Series'>\n",
            "RangeIndex: 891 entries, 0 to 890\n",
            "Series name: Cabin\n",
            "Non-Null Count  Dtype \n",
            "--------------  ----- \n",
            "891 non-null    object\n",
            "dtypes: object(1)\n",
            "memory usage: 33.7 KB\n"
          ]
        }
      ]
    },
    {
      "cell_type": "markdown",
      "source": [
        "![image.png](data:image/png;base64,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)"
      ],
      "metadata": {
        "id": "YaFWgB4Pitf1"
      }
    },
    {
      "cell_type": "code",
      "source": [
        "df['Cabin'] = df['Cabin'].astype(\"category\")\n",
        "df['Cabin'].info(memory_usage=\"deep\")"
      ],
      "metadata": {
        "colab": {
          "base_uri": "https://localhost:8080/"
        },
        "id": "MTbzbLAGiCqB",
        "outputId": "53ec9265-5dc7-44a9-e8d9-965405ac51a4"
      },
      "execution_count": null,
      "outputs": [
        {
          "output_type": "stream",
          "name": "stdout",
          "text": [
            "<class 'pandas.core.series.Series'>\n",
            "RangeIndex: 891 entries, 0 to 890\n",
            "Series name: Cabin\n",
            "Non-Null Count  Dtype   \n",
            "--------------  -----   \n",
            "891 non-null    category\n",
            "dtypes: category(1)\n",
            "memory usage: 14.6 KB\n"
          ]
        }
      ]
    },
    {
      "cell_type": "markdown",
      "source": [
        "### Sparse columns"
      ],
      "metadata": {
        "id": "PCGBNvZvjDqK"
      }
    },
    {
      "cell_type": "code",
      "source": [
        "df_1 = pd.DataFrame(\n",
        "    np.random.randint(1, 1_000_000, size=(10**6, 3)),\n",
        "    columns = [\"col1\", \"col2\", \"col3\"],\n",
        ")\n",
        "\n",
        "df_1[\"col1\"] = df_1.col1.astype(np.float64)"
      ],
      "metadata": {
        "id": "mwaLXix1jDSQ"
      },
      "execution_count": null,
      "outputs": []
    },
    {
      "cell_type": "code",
      "source": [
        "df_1.loc[::2, \"col1\"] = np.nan\n",
        "df_1.loc[::3, \"col1\"] = np.nan\n",
        "df_1.loc[::5, \"col1\"] = np.nan"
      ],
      "metadata": {
        "id": "gWKYASaTjDPO"
      },
      "execution_count": null,
      "outputs": []
    },
    {
      "cell_type": "code",
      "source": [
        "df_1.head()"
      ],
      "metadata": {
        "colab": {
          "base_uri": "https://localhost:8080/",
          "height": 206
        },
        "id": "vbO2n_dqjPNo",
        "outputId": "f6c1520a-fead-4868-81b3-e018dc5ea641"
      },
      "execution_count": null,
      "outputs": [
        {
          "output_type": "execute_result",
          "data": {
            "text/plain": [
              "       col1    col2    col3\n",
              "0       NaN  459495  395040\n",
              "1  422567.0  371508  288380\n",
              "2       NaN  382205  900732\n",
              "3       NaN  199670  898561\n",
              "4       NaN  491917  293809"
            ],
            "text/html": [
              "\n",
              "  <div id=\"df-587a1843-cb9b-48bb-9c01-af7f7b9ae2b8\" class=\"colab-df-container\">\n",
              "    <div>\n",
              "<style scoped>\n",
              "    .dataframe tbody tr th:only-of-type {\n",
              "        vertical-align: middle;\n",
              "    }\n",
              "\n",
              "    .dataframe tbody tr th {\n",
              "        vertical-align: top;\n",
              "    }\n",
              "\n",
              "    .dataframe thead th {\n",
              "        text-align: right;\n",
              "    }\n",
              "</style>\n",
              "<table border=\"1\" class=\"dataframe\">\n",
              "  <thead>\n",
              "    <tr style=\"text-align: right;\">\n",
              "      <th></th>\n",
              "      <th>col1</th>\n",
              "      <th>col2</th>\n",
              "      <th>col3</th>\n",
              "    </tr>\n",
              "  </thead>\n",
              "  <tbody>\n",
              "    <tr>\n",
              "      <th>0</th>\n",
              "      <td>NaN</td>\n",
              "      <td>459495</td>\n",
              "      <td>395040</td>\n",
              "    </tr>\n",
              "    <tr>\n",
              "      <th>1</th>\n",
              "      <td>422567.0</td>\n",
              "      <td>371508</td>\n",
              "      <td>288380</td>\n",
              "    </tr>\n",
              "    <tr>\n",
              "      <th>2</th>\n",
              "      <td>NaN</td>\n",
              "      <td>382205</td>\n",
              "      <td>900732</td>\n",
              "    </tr>\n",
              "    <tr>\n",
              "      <th>3</th>\n",
              "      <td>NaN</td>\n",
              "      <td>199670</td>\n",
              "      <td>898561</td>\n",
              "    </tr>\n",
              "    <tr>\n",
              "      <th>4</th>\n",
              "      <td>NaN</td>\n",
              "      <td>491917</td>\n",
              "      <td>293809</td>\n",
              "    </tr>\n",
              "  </tbody>\n",
              "</table>\n",
              "</div>\n",
              "    <div class=\"colab-df-buttons\">\n",
              "\n",
              "  <div class=\"colab-df-container\">\n",
              "    <button class=\"colab-df-convert\" onclick=\"convertToInteractive('df-587a1843-cb9b-48bb-9c01-af7f7b9ae2b8')\"\n",
              "            title=\"Convert this dataframe to an interactive table.\"\n",
              "            style=\"display:none;\">\n",
              "\n",
              "  <svg xmlns=\"http://www.w3.org/2000/svg\" height=\"24px\" viewBox=\"0 -960 960 960\">\n",
              "    <path d=\"M120-120v-720h720v720H120Zm60-500h600v-160H180v160Zm220 220h160v-160H400v160Zm0 220h160v-160H400v160ZM180-400h160v-160H180v160Zm440 0h160v-160H620v160ZM180-180h160v-160H180v160Zm440 0h160v-160H620v160Z\"/>\n",
              "  </svg>\n",
              "    </button>\n",
              "\n",
              "  <style>\n",
              "    .colab-df-container {\n",
              "      display:flex;\n",
              "      gap: 12px;\n",
              "    }\n",
              "\n",
              "    .colab-df-convert {\n",
              "      background-color: #E8F0FE;\n",
              "      border: none;\n",
              "      border-radius: 50%;\n",
              "      cursor: pointer;\n",
              "      display: none;\n",
              "      fill: #1967D2;\n",
              "      height: 32px;\n",
              "      padding: 0 0 0 0;\n",
              "      width: 32px;\n",
              "    }\n",
              "\n",
              "    .colab-df-convert:hover {\n",
              "      background-color: #E2EBFA;\n",
              "      box-shadow: 0px 1px 2px rgba(60, 64, 67, 0.3), 0px 1px 3px 1px rgba(60, 64, 67, 0.15);\n",
              "      fill: #174EA6;\n",
              "    }\n",
              "\n",
              "    .colab-df-buttons div {\n",
              "      margin-bottom: 4px;\n",
              "    }\n",
              "\n",
              "    [theme=dark] .colab-df-convert {\n",
              "      background-color: #3B4455;\n",
              "      fill: #D2E3FC;\n",
              "    }\n",
              "\n",
              "    [theme=dark] .colab-df-convert:hover {\n",
              "      background-color: #434B5C;\n",
              "      box-shadow: 0px 1px 3px 1px rgba(0, 0, 0, 0.15);\n",
              "      filter: drop-shadow(0px 1px 2px rgba(0, 0, 0, 0.3));\n",
              "      fill: #FFFFFF;\n",
              "    }\n",
              "  </style>\n",
              "\n",
              "    <script>\n",
              "      const buttonEl =\n",
              "        document.querySelector('#df-587a1843-cb9b-48bb-9c01-af7f7b9ae2b8 button.colab-df-convert');\n",
              "      buttonEl.style.display =\n",
              "        google.colab.kernel.accessAllowed ? 'block' : 'none';\n",
              "\n",
              "      async function convertToInteractive(key) {\n",
              "        const element = document.querySelector('#df-587a1843-cb9b-48bb-9c01-af7f7b9ae2b8');\n",
              "        const dataTable =\n",
              "          await google.colab.kernel.invokeFunction('convertToInteractive',\n",
              "                                                    [key], {});\n",
              "        if (!dataTable) return;\n",
              "\n",
              "        const docLinkHtml = 'Like what you see? Visit the ' +\n",
              "          '<a target=\"_blank\" href=https://colab.research.google.com/notebooks/data_table.ipynb>data table notebook</a>'\n",
              "          + ' to learn more about interactive tables.';\n",
              "        element.innerHTML = '';\n",
              "        dataTable['output_type'] = 'display_data';\n",
              "        await google.colab.output.renderOutput(dataTable, element);\n",
              "        const docLink = document.createElement('div');\n",
              "        docLink.innerHTML = docLinkHtml;\n",
              "        element.appendChild(docLink);\n",
              "      }\n",
              "    </script>\n",
              "  </div>\n",
              "\n",
              "\n",
              "<div id=\"df-91b19cd5-f059-41cf-bca6-28b288c07ffd\">\n",
              "  <button class=\"colab-df-quickchart\" onclick=\"quickchart('df-91b19cd5-f059-41cf-bca6-28b288c07ffd')\"\n",
              "            title=\"Suggest charts\"\n",
              "            style=\"display:none;\">\n",
              "\n",
              "<svg xmlns=\"http://www.w3.org/2000/svg\" height=\"24px\"viewBox=\"0 0 24 24\"\n",
              "     width=\"24px\">\n",
              "    <g>\n",
              "        <path d=\"M19 3H5c-1.1 0-2 .9-2 2v14c0 1.1.9 2 2 2h14c1.1 0 2-.9 2-2V5c0-1.1-.9-2-2-2zM9 17H7v-7h2v7zm4 0h-2V7h2v10zm4 0h-2v-4h2v4z\"/>\n",
              "    </g>\n",
              "</svg>\n",
              "  </button>\n",
              "\n",
              "<style>\n",
              "  .colab-df-quickchart {\n",
              "      --bg-color: #E8F0FE;\n",
              "      --fill-color: #1967D2;\n",
              "      --hover-bg-color: #E2EBFA;\n",
              "      --hover-fill-color: #174EA6;\n",
              "      --disabled-fill-color: #AAA;\n",
              "      --disabled-bg-color: #DDD;\n",
              "  }\n",
              "\n",
              "  [theme=dark] .colab-df-quickchart {\n",
              "      --bg-color: #3B4455;\n",
              "      --fill-color: #D2E3FC;\n",
              "      --hover-bg-color: #434B5C;\n",
              "      --hover-fill-color: #FFFFFF;\n",
              "      --disabled-bg-color: #3B4455;\n",
              "      --disabled-fill-color: #666;\n",
              "  }\n",
              "\n",
              "  .colab-df-quickchart {\n",
              "    background-color: var(--bg-color);\n",
              "    border: none;\n",
              "    border-radius: 50%;\n",
              "    cursor: pointer;\n",
              "    display: none;\n",
              "    fill: var(--fill-color);\n",
              "    height: 32px;\n",
              "    padding: 0;\n",
              "    width: 32px;\n",
              "  }\n",
              "\n",
              "  .colab-df-quickchart:hover {\n",
              "    background-color: var(--hover-bg-color);\n",
              "    box-shadow: 0 1px 2px rgba(60, 64, 67, 0.3), 0 1px 3px 1px rgba(60, 64, 67, 0.15);\n",
              "    fill: var(--button-hover-fill-color);\n",
              "  }\n",
              "\n",
              "  .colab-df-quickchart-complete:disabled,\n",
              "  .colab-df-quickchart-complete:disabled:hover {\n",
              "    background-color: var(--disabled-bg-color);\n",
              "    fill: var(--disabled-fill-color);\n",
              "    box-shadow: none;\n",
              "  }\n",
              "\n",
              "  .colab-df-spinner {\n",
              "    border: 2px solid var(--fill-color);\n",
              "    border-color: transparent;\n",
              "    border-bottom-color: var(--fill-color);\n",
              "    animation:\n",
              "      spin 1s steps(1) infinite;\n",
              "  }\n",
              "\n",
              "  @keyframes spin {\n",
              "    0% {\n",
              "      border-color: transparent;\n",
              "      border-bottom-color: var(--fill-color);\n",
              "      border-left-color: var(--fill-color);\n",
              "    }\n",
              "    20% {\n",
              "      border-color: transparent;\n",
              "      border-left-color: var(--fill-color);\n",
              "      border-top-color: var(--fill-color);\n",
              "    }\n",
              "    30% {\n",
              "      border-color: transparent;\n",
              "      border-left-color: var(--fill-color);\n",
              "      border-top-color: var(--fill-color);\n",
              "      border-right-color: var(--fill-color);\n",
              "    }\n",
              "    40% {\n",
              "      border-color: transparent;\n",
              "      border-right-color: var(--fill-color);\n",
              "      border-top-color: var(--fill-color);\n",
              "    }\n",
              "    60% {\n",
              "      border-color: transparent;\n",
              "      border-right-color: var(--fill-color);\n",
              "    }\n",
              "    80% {\n",
              "      border-color: transparent;\n",
              "      border-right-color: var(--fill-color);\n",
              "      border-bottom-color: var(--fill-color);\n",
              "    }\n",
              "    90% {\n",
              "      border-color: transparent;\n",
              "      border-bottom-color: var(--fill-color);\n",
              "    }\n",
              "  }\n",
              "</style>\n",
              "\n",
              "  <script>\n",
              "    async function quickchart(key) {\n",
              "      const quickchartButtonEl =\n",
              "        document.querySelector('#' + key + ' button');\n",
              "      quickchartButtonEl.disabled = true;  // To prevent multiple clicks.\n",
              "      quickchartButtonEl.classList.add('colab-df-spinner');\n",
              "      try {\n",
              "        const charts = await google.colab.kernel.invokeFunction(\n",
              "            'suggestCharts', [key], {});\n",
              "      } catch (error) {\n",
              "        console.error('Error during call to suggestCharts:', error);\n",
              "      }\n",
              "      quickchartButtonEl.classList.remove('colab-df-spinner');\n",
              "      quickchartButtonEl.classList.add('colab-df-quickchart-complete');\n",
              "    }\n",
              "    (() => {\n",
              "      let quickchartButtonEl =\n",
              "        document.querySelector('#df-91b19cd5-f059-41cf-bca6-28b288c07ffd button');\n",
              "      quickchartButtonEl.style.display =\n",
              "        google.colab.kernel.accessAllowed ? 'block' : 'none';\n",
              "    })();\n",
              "  </script>\n",
              "</div>\n",
              "    </div>\n",
              "  </div>\n"
            ]
          },
          "metadata": {},
          "execution_count": 53
        }
      ]
    },
    {
      "cell_type": "code",
      "source": [
        "df_1[df_1['col1'].isna()].shape"
      ],
      "metadata": {
        "colab": {
          "base_uri": "https://localhost:8080/"
        },
        "id": "x8zckddtjeGK",
        "outputId": "48b0e57e-f0e0-477c-8358-f6b65221f418"
      },
      "execution_count": null,
      "outputs": [
        {
          "output_type": "execute_result",
          "data": {
            "text/plain": [
              "(733334, 3)"
            ]
          },
          "metadata": {},
          "execution_count": 54
        }
      ]
    },
    {
      "cell_type": "code",
      "source": [
        "df_1['col1'].info()"
      ],
      "metadata": {
        "colab": {
          "base_uri": "https://localhost:8080/"
        },
        "id": "WexRmQWdjk-3",
        "outputId": "431405d8-c0a7-4322-f58c-847ee49a5b27"
      },
      "execution_count": null,
      "outputs": [
        {
          "output_type": "stream",
          "name": "stdout",
          "text": [
            "<class 'pandas.core.series.Series'>\n",
            "RangeIndex: 1000000 entries, 0 to 999999\n",
            "Series name: col1\n",
            "Non-Null Count   Dtype  \n",
            "--------------   -----  \n",
            "266666 non-null  float64\n",
            "dtypes: float64(1)\n",
            "memory usage: 7.6 MB\n"
          ]
        }
      ]
    },
    {
      "cell_type": "code",
      "source": [
        "df_1[\"col1\"] = df_1.col1.astype(\"Sparse[float64]\")"
      ],
      "metadata": {
        "id": "hku4vXoejlCD"
      },
      "execution_count": null,
      "outputs": []
    },
    {
      "cell_type": "code",
      "source": [
        "df_1[\"col1\"].info()"
      ],
      "metadata": {
        "colab": {
          "base_uri": "https://localhost:8080/"
        },
        "id": "cuuexBckjlEX",
        "outputId": "0fe10064-8f08-4c6e-e876-e734f3f34c51"
      },
      "execution_count": null,
      "outputs": [
        {
          "output_type": "stream",
          "name": "stdout",
          "text": [
            "<class 'pandas.core.series.Series'>\n",
            "RangeIndex: 1000000 entries, 0 to 999999\n",
            "Series name: col1\n",
            "Non-Null Count   Dtype               \n",
            "--------------   -----               \n",
            "266666 non-null  Sparse[float64, nan]\n",
            "dtypes: Sparse[float64, nan](1)\n",
            "memory usage: 3.1 MB\n"
          ]
        }
      ]
    },
    {
      "cell_type": "markdown",
      "source": [
        "### Итерация по pd.DataFrame"
      ],
      "metadata": {
        "id": "G3wArXNLcqZM"
      }
    },
    {
      "cell_type": "code",
      "source": [
        "result = []\n",
        "\n",
        "for _, row in df.iterrows():\n",
        "  res = row.Fare * 1.25\n",
        "  result.append(res)\n",
        "df['Fare'] = res"
      ],
      "metadata": {
        "id": "OGcYUigX8RqM"
      },
      "execution_count": null,
      "outputs": []
    },
    {
      "cell_type": "code",
      "source": [
        "%%timeit\n",
        "\n",
        "res = [row.Fare * 1.25 for _, row in df.iterrows()]"
      ],
      "metadata": {
        "colab": {
          "base_uri": "https://localhost:8080/"
        },
        "id": "g-yK8MgEa691",
        "outputId": "8a492dc4-c483-498a-f461-acdd6509c6f3"
      },
      "execution_count": null,
      "outputs": [
        {
          "output_type": "stream",
          "name": "stdout",
          "text": [
            "43.5 ms ± 678 µs per loop (mean ± std. dev. of 7 runs, 10 loops each)\n"
          ]
        }
      ]
    },
    {
      "cell_type": "code",
      "source": [
        "def calc_fare(row):\n",
        "  return row.Fare * 1.25"
      ],
      "metadata": {
        "id": "v55QOpNo8lX4"
      },
      "execution_count": null,
      "outputs": []
    },
    {
      "cell_type": "code",
      "source": [
        "df.apply(calc_fare, axis=1)"
      ],
      "metadata": {
        "id": "Yq7zI3gpHRNe"
      },
      "execution_count": null,
      "outputs": []
    },
    {
      "cell_type": "code",
      "source": [
        "%%timeit\n",
        "\n",
        "df['Fare_new'] = df['Fare'].apply(lambda row: row * 1.25, axis=1)"
      ],
      "metadata": {
        "colab": {
          "base_uri": "https://localhost:8080/"
        },
        "id": "6EMcVYe5ceh2",
        "outputId": "4577b3d0-d960-466c-c0da-3909a25b7e63"
      },
      "execution_count": null,
      "outputs": [
        {
          "output_type": "stream",
          "name": "stdout",
          "text": [
            "10.3 ms ± 2.51 ms per loop (mean ± std. dev. of 7 runs, 100 loops each)\n"
          ]
        }
      ]
    },
    {
      "cell_type": "code",
      "source": [
        "%%timeit\n",
        "\n",
        "res = [row.Fare * row.Percent for row in df.itertuples()]"
      ],
      "metadata": {
        "colab": {
          "base_uri": "https://localhost:8080/"
        },
        "id": "LA6HHcvna7GY",
        "outputId": "fe2b1522-965e-4e74-87d2-8f10ffb04d71"
      },
      "execution_count": null,
      "outputs": [
        {
          "output_type": "stream",
          "name": "stdout",
          "text": [
            "3.82 ms ± 768 µs per loop (mean ± std. dev. of 7 runs, 100 loops each)\n"
          ]
        }
      ]
    },
    {
      "cell_type": "code",
      "source": [
        "%%timeit\n",
        "\n",
        "np_arr = df.to_numpy();\n",
        "res = [row[9] * 1.25 for row in np_arr]"
      ],
      "metadata": {
        "colab": {
          "base_uri": "https://localhost:8080/"
        },
        "id": "qyv5CXOta7JW",
        "outputId": "4cd5951c-d37f-4a1d-c64b-f69718d2520d"
      },
      "execution_count": null,
      "outputs": [
        {
          "output_type": "stream",
          "name": "stdout",
          "text": [
            "466 µs ± 130 µs per loop (mean ± std. dev. of 7 runs, 1000 loops each)\n"
          ]
        }
      ]
    },
    {
      "cell_type": "code",
      "source": [
        "%%timeit\n",
        "\n",
        "df_dict = df.to_dict(\"records\");\n",
        "res = [row[\"Fare\"] * 1.25 for row in df_dict]"
      ],
      "metadata": {
        "colab": {
          "base_uri": "https://localhost:8080/"
        },
        "id": "g9xpSZ_gc0F0",
        "outputId": "57753c92-92ba-4494-f66d-34446b8c0d7d"
      },
      "execution_count": null,
      "outputs": [
        {
          "output_type": "stream",
          "name": "stdout",
          "text": [
            "11.6 ms ± 3.27 ms per loop (mean ± std. dev. of 7 runs, 100 loops each)\n"
          ]
        }
      ]
    },
    {
      "cell_type": "markdown",
      "source": [
        "### Получение столбца"
      ],
      "metadata": {
        "id": "nknqkIgrdavg"
      }
    },
    {
      "cell_type": "code",
      "source": [
        "%%timeit\n",
        "\n",
        "df.iloc[0][\"Name\"];"
      ],
      "metadata": {
        "colab": {
          "base_uri": "https://localhost:8080/"
        },
        "id": "DzPp07nldERq",
        "outputId": "3d91da64-b795-4315-ecfb-0d7b8226366c"
      },
      "execution_count": null,
      "outputs": [
        {
          "output_type": "stream",
          "name": "stdout",
          "text": [
            "120 µs ± 27.9 µs per loop (mean ± std. dev. of 7 runs, 10000 loops each)\n"
          ]
        }
      ]
    },
    {
      "cell_type": "code",
      "source": [
        "%%timeit\n",
        "\n",
        "df[\"Name\"].values[0];"
      ],
      "metadata": {
        "colab": {
          "base_uri": "https://localhost:8080/"
        },
        "id": "-ocrJ8y9dEO8",
        "outputId": "6fd6c1c8-9658-4eea-dd74-6cdeb8b158e4"
      },
      "execution_count": null,
      "outputs": [
        {
          "output_type": "stream",
          "name": "stdout",
          "text": [
            "3.55 µs ± 79.6 ns per loop (mean ± std. dev. of 7 runs, 100000 loops each)\n"
          ]
        }
      ]
    },
    {
      "cell_type": "markdown",
      "source": [
        "### Преобразование столбца по условию"
      ],
      "metadata": {
        "id": "dt7Ju2WJnQFI"
      }
    },
    {
      "cell_type": "code",
      "source": [
        "def assign_class(value):\n",
        "    if value == 'male':\n",
        "      return 0\n",
        "    return 1"
      ],
      "metadata": {
        "id": "CyPu-dI8dEWz"
      },
      "execution_count": null,
      "outputs": []
    },
    {
      "cell_type": "code",
      "source": [
        "%%timeit\n",
        "\n",
        "res = df['Sex'].apply(assign_class)"
      ],
      "metadata": {
        "colab": {
          "base_uri": "https://localhost:8080/"
        },
        "id": "gkxy9lwinPjH",
        "outputId": "26d5fbb8-fb86-40bd-8d40-683c2fa7b9d9"
      },
      "execution_count": null,
      "outputs": [
        {
          "output_type": "stream",
          "name": "stdout",
          "text": [
            "940 µs ± 475 µs per loop (mean ± std. dev. of 7 runs, 1000 loops each)\n"
          ]
        }
      ]
    },
    {
      "cell_type": "code",
      "source": [
        "%%timeit\n",
        "\n",
        "res = np.where(df[\"Sex\"] == 'male', 0, 1)"
      ],
      "metadata": {
        "colab": {
          "base_uri": "https://localhost:8080/"
        },
        "id": "27YJ2LHKnPnM",
        "outputId": "c24d4b87-16d4-4460-b80e-709fc91ae05b"
      },
      "execution_count": null,
      "outputs": [
        {
          "output_type": "stream",
          "name": "stdout",
          "text": [
            "228 µs ± 37 µs per loop (mean ± std. dev. of 7 runs, 10000 loops each)\n"
          ]
        }
      ]
    },
    {
      "cell_type": "markdown",
      "source": [
        "### cuDF\n",
        "\n",
        "[cuDF vs Pandas dataframe performance comparison](https://arshovon.com/blog/cudf-vs-df/)\n",
        "\n",
        "[cuDF.pandas benchmarks docs](https://docs.rapids.ai/api/cudf/stable/cudf_pandas/benchmarks/)"
      ],
      "metadata": {
        "id": "3mETC-pKriNP"
      }
    },
    {
      "cell_type": "code",
      "source": [],
      "metadata": {
        "id": "0A9tQdRwlOuw"
      },
      "execution_count": null,
      "outputs": []
    }
  ]
}