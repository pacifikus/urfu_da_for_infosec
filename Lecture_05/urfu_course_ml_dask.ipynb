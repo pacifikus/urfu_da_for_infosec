{
  "nbformat": 4,
  "nbformat_minor": 0,
  "metadata": {
    "colab": {
      "provenance": [],
      "toc_visible": true
    },
    "kernelspec": {
      "name": "python3",
      "display_name": "Python 3"
    },
    "language_info": {
      "name": "python"
    }
  },
  "cells": [
    {
      "cell_type": "code",
      "source": [
        "import pandas as pd"
      ],
      "metadata": {
        "id": "sixrJdOpUIBZ"
      },
      "execution_count": null,
      "outputs": []
    },
    {
      "cell_type": "markdown",
      "source": [
        "## Dask\n",
        "\n",
        "Dask - пакет для параллельных вычислений на Python, совместимый с NumPy, Pandas, и scikit-learn. В Dask есть структура массивов, которая эквивалентна массивам в NumPy, датафреймы в Dask аналогичны датафреймам в Pandas, а Dask-ML – это аналог scikit-learn.\n",
        "\n",
        "[Документация](https://docs.dask.org/en/stable/)"
      ],
      "metadata": {
        "id": "rhwHz2OAFopg"
      }
    },
    {
      "cell_type": "code",
      "execution_count": null,
      "metadata": {
        "id": "4Dx0kto_Fip-"
      },
      "outputs": [],
      "source": [
        "import dask.dataframe as dd"
      ]
    },
    {
      "cell_type": "markdown",
      "source": [
        "NYC taxi cab data 2015\n",
        "\n",
        "Apache Parquet — это бинарный, колоночно-ориентированный формат хранения больших данных"
      ],
      "metadata": {
        "id": "9sA9ONE1ILnI"
      }
    },
    {
      "cell_type": "markdown",
      "source": [
        "### Dask Arrays"
      ],
      "metadata": {
        "id": "LBFZ8EsbWDHu"
      }
    },
    {
      "cell_type": "code",
      "source": [
        "import numpy as np\n",
        "shape = (1000, 4000)\n",
        "ones_np = np.ones(shape)\n",
        "ones_np"
      ],
      "metadata": {
        "colab": {
          "base_uri": "https://localhost:8080/"
        },
        "id": "IMeDwoiDWCP9",
        "outputId": "4c2ee4f3-6fde-433c-f656-cbf55c64a8ae"
      },
      "execution_count": null,
      "outputs": [
        {
          "output_type": "execute_result",
          "data": {
            "text/plain": [
              "array([[1., 1., 1., ..., 1., 1., 1.],\n",
              "       [1., 1., 1., ..., 1., 1., 1.],\n",
              "       [1., 1., 1., ..., 1., 1., 1.],\n",
              "       ...,\n",
              "       [1., 1., 1., ..., 1., 1., 1.],\n",
              "       [1., 1., 1., ..., 1., 1., 1.],\n",
              "       [1., 1., 1., ..., 1., 1., 1.]])"
            ]
          },
          "metadata": {},
          "execution_count": 4
        }
      ]
    },
    {
      "cell_type": "code",
      "source": [
        "print('%.1f MB' % (ones_np.nbytes / (1024 * 1024)))"
      ],
      "metadata": {
        "colab": {
          "base_uri": "https://localhost:8080/"
        },
        "id": "dTwLz81DWCNB",
        "outputId": "99a7b193-5e3d-453e-eeab-af2087a3cb24"
      },
      "execution_count": null,
      "outputs": [
        {
          "output_type": "stream",
          "name": "stdout",
          "text": [
            "30.5 MB\n"
          ]
        }
      ]
    },
    {
      "cell_type": "code",
      "source": [
        "import dask.array as da\n",
        "\n",
        "ones = da.ones(shape)\n",
        "ones"
      ],
      "metadata": {
        "colab": {
          "base_uri": "https://localhost:8080/",
          "height": 120
        },
        "id": "lG4doHvEWCKz",
        "outputId": "6a1fa23f-8940-4cb6-9013-c6cf4d54fb1e"
      },
      "execution_count": null,
      "outputs": [
        {
          "output_type": "execute_result",
          "data": {
            "text/plain": [
              "dask.array<ones_like, shape=(1000, 4000), dtype=float64, chunksize=(1000, 4000), chunktype=numpy.ndarray>"
            ],
            "text/html": [
              "<table>\n",
              "    <tr>\n",
              "        <td>\n",
              "            <table style=\"border-collapse: collapse;\">\n",
              "                <thead>\n",
              "                    <tr>\n",
              "                        <td> </td>\n",
              "                        <th> Array </th>\n",
              "                        <th> Chunk </th>\n",
              "                    </tr>\n",
              "                </thead>\n",
              "                <tbody>\n",
              "                    \n",
              "                    <tr>\n",
              "                        <th> Bytes </th>\n",
              "                        <td> 30.52 MiB </td>\n",
              "                        <td> 30.52 MiB </td>\n",
              "                    </tr>\n",
              "                    \n",
              "                    <tr>\n",
              "                        <th> Shape </th>\n",
              "                        <td> (1000, 4000) </td>\n",
              "                        <td> (1000, 4000) </td>\n",
              "                    </tr>\n",
              "                    <tr>\n",
              "                        <th> Dask graph </th>\n",
              "                        <td colspan=\"2\"> 1 chunks in 1 graph layer </td>\n",
              "                    </tr>\n",
              "                    <tr>\n",
              "                        <th> Data type </th>\n",
              "                        <td colspan=\"2\"> float64 numpy.ndarray </td>\n",
              "                    </tr>\n",
              "                </tbody>\n",
              "            </table>\n",
              "        </td>\n",
              "        <td>\n",
              "        <svg width=\"170\" height=\"92\" style=\"stroke:rgb(0,0,0);stroke-width:1\" >\n",
              "\n",
              "  <!-- Horizontal lines -->\n",
              "  <line x1=\"0\" y1=\"0\" x2=\"120\" y2=\"0\" style=\"stroke-width:2\" />\n",
              "  <line x1=\"0\" y1=\"42\" x2=\"120\" y2=\"42\" style=\"stroke-width:2\" />\n",
              "\n",
              "  <!-- Vertical lines -->\n",
              "  <line x1=\"0\" y1=\"0\" x2=\"0\" y2=\"42\" style=\"stroke-width:2\" />\n",
              "  <line x1=\"120\" y1=\"0\" x2=\"120\" y2=\"42\" style=\"stroke-width:2\" />\n",
              "\n",
              "  <!-- Colored Rectangle -->\n",
              "  <polygon points=\"0.0,0.0 120.0,0.0 120.0,42.89879552186203 0.0,42.89879552186203\" style=\"fill:#ECB172A0;stroke-width:0\"/>\n",
              "\n",
              "  <!-- Text -->\n",
              "  <text x=\"60.000000\" y=\"62.898796\" font-size=\"1.0rem\" font-weight=\"100\" text-anchor=\"middle\" >4000</text>\n",
              "  <text x=\"140.000000\" y=\"21.449398\" font-size=\"1.0rem\" font-weight=\"100\" text-anchor=\"middle\" transform=\"rotate(-90,140.000000,21.449398)\">1000</text>\n",
              "</svg>\n",
              "        </td>\n",
              "    </tr>\n",
              "</table>"
            ]
          },
          "metadata": {},
          "execution_count": 6
        }
      ]
    },
    {
      "cell_type": "code",
      "source": [
        "chunk_shape = (1000, 1000)\n",
        "ones = da.ones(shape, chunks=chunk_shape)\n",
        "ones"
      ],
      "metadata": {
        "colab": {
          "base_uri": "https://localhost:8080/",
          "height": 120
        },
        "id": "JgB3s36uWCG9",
        "outputId": "6716ea88-34c0-4e37-c733-fec86b08dcd3"
      },
      "execution_count": null,
      "outputs": [
        {
          "output_type": "execute_result",
          "data": {
            "text/plain": [
              "dask.array<ones_like, shape=(1000, 4000), dtype=float64, chunksize=(1000, 1000), chunktype=numpy.ndarray>"
            ],
            "text/html": [
              "<table>\n",
              "    <tr>\n",
              "        <td>\n",
              "            <table style=\"border-collapse: collapse;\">\n",
              "                <thead>\n",
              "                    <tr>\n",
              "                        <td> </td>\n",
              "                        <th> Array </th>\n",
              "                        <th> Chunk </th>\n",
              "                    </tr>\n",
              "                </thead>\n",
              "                <tbody>\n",
              "                    \n",
              "                    <tr>\n",
              "                        <th> Bytes </th>\n",
              "                        <td> 30.52 MiB </td>\n",
              "                        <td> 7.63 MiB </td>\n",
              "                    </tr>\n",
              "                    \n",
              "                    <tr>\n",
              "                        <th> Shape </th>\n",
              "                        <td> (1000, 4000) </td>\n",
              "                        <td> (1000, 1000) </td>\n",
              "                    </tr>\n",
              "                    <tr>\n",
              "                        <th> Dask graph </th>\n",
              "                        <td colspan=\"2\"> 4 chunks in 1 graph layer </td>\n",
              "                    </tr>\n",
              "                    <tr>\n",
              "                        <th> Data type </th>\n",
              "                        <td colspan=\"2\"> float64 numpy.ndarray </td>\n",
              "                    </tr>\n",
              "                </tbody>\n",
              "            </table>\n",
              "        </td>\n",
              "        <td>\n",
              "        <svg width=\"170\" height=\"92\" style=\"stroke:rgb(0,0,0);stroke-width:1\" >\n",
              "\n",
              "  <!-- Horizontal lines -->\n",
              "  <line x1=\"0\" y1=\"0\" x2=\"120\" y2=\"0\" style=\"stroke-width:2\" />\n",
              "  <line x1=\"0\" y1=\"42\" x2=\"120\" y2=\"42\" style=\"stroke-width:2\" />\n",
              "\n",
              "  <!-- Vertical lines -->\n",
              "  <line x1=\"0\" y1=\"0\" x2=\"0\" y2=\"42\" style=\"stroke-width:2\" />\n",
              "  <line x1=\"30\" y1=\"0\" x2=\"30\" y2=\"42\" />\n",
              "  <line x1=\"60\" y1=\"0\" x2=\"60\" y2=\"42\" />\n",
              "  <line x1=\"90\" y1=\"0\" x2=\"90\" y2=\"42\" />\n",
              "  <line x1=\"120\" y1=\"0\" x2=\"120\" y2=\"42\" style=\"stroke-width:2\" />\n",
              "\n",
              "  <!-- Colored Rectangle -->\n",
              "  <polygon points=\"0.0,0.0 120.0,0.0 120.0,42.89879552186203 0.0,42.89879552186203\" style=\"fill:#ECB172A0;stroke-width:0\"/>\n",
              "\n",
              "  <!-- Text -->\n",
              "  <text x=\"60.000000\" y=\"62.898796\" font-size=\"1.0rem\" font-weight=\"100\" text-anchor=\"middle\" >4000</text>\n",
              "  <text x=\"140.000000\" y=\"21.449398\" font-size=\"1.0rem\" font-weight=\"100\" text-anchor=\"middle\" transform=\"rotate(-90,140.000000,21.449398)\">1000</text>\n",
              "</svg>\n",
              "        </td>\n",
              "    </tr>\n",
              "</table>"
            ]
          },
          "metadata": {},
          "execution_count": 7
        }
      ]
    },
    {
      "cell_type": "code",
      "source": [
        "ones.compute()"
      ],
      "metadata": {
        "colab": {
          "base_uri": "https://localhost:8080/"
        },
        "id": "_sWUqrn5WOLX",
        "outputId": "b789f096-bcae-49ee-ed26-97412712b439"
      },
      "execution_count": null,
      "outputs": [
        {
          "output_type": "execute_result",
          "data": {
            "text/plain": [
              "array([[1., 1., 1., ..., 1., 1., 1.],\n",
              "       [1., 1., 1., ..., 1., 1., 1.],\n",
              "       [1., 1., 1., ..., 1., 1., 1.],\n",
              "       ...,\n",
              "       [1., 1., 1., ..., 1., 1., 1.],\n",
              "       [1., 1., 1., ..., 1., 1., 1.],\n",
              "       [1., 1., 1., ..., 1., 1., 1.]])"
            ]
          },
          "metadata": {},
          "execution_count": 8
        }
      ]
    },
    {
      "cell_type": "code",
      "source": [
        "ones.visualize()"
      ],
      "metadata": {
        "colab": {
          "base_uri": "https://localhost:8080/",
          "height": 252
        },
        "id": "SkmWz9ilWOOM",
        "outputId": "4bdf938d-0397-4993-8bae-5de5841c0f2a"
      },
      "execution_count": null,
      "outputs": [
        {
          "output_type": "execute_result",
          "data": {
            "image/png": "[encoded data removed]",
            "text/plain": [
              "<IPython.core.display.Image object>"
            ]
          },
          "metadata": {},
          "execution_count": 9
        }
      ]
    },
    {
      "cell_type": "code",
      "source": [
        "sum_of_ones = ones.sum()\n",
        "sum_of_ones.visualize()"
      ],
      "metadata": {
        "colab": {
          "base_uri": "https://localhost:8080/",
          "height": 1000
        },
        "id": "ssyAJblYWOQt",
        "outputId": "70d0da06-b63c-4732-f87a-84f06d976a62"
      },
      "execution_count": null,
      "outputs": [
        {
          "output_type": "execute_result",
          "data": {
            "image/png": "[encoded data removed]",
            "text/plain": [
              "<IPython.core.display.Image object>"
            ]
          },
          "metadata": {},
          "execution_count": 10
        }
      ]
    },
    {
      "cell_type": "markdown",
      "source": [
        "Возьмем побольше данных"
      ],
      "metadata": {
        "id": "FEJBw0QoWm5i"
      }
    },
    {
      "cell_type": "code",
      "source": [
        "bigshape = (200000, 4000)\n",
        "big_ones = da.ones(bigshape, chunks=chunk_shape)\n",
        "big_ones"
      ],
      "metadata": {
        "colab": {
          "base_uri": "https://localhost:8080/",
          "height": 197
        },
        "id": "CHmd1ZtoWZ6x",
        "outputId": "093df039-63a2-4dcd-dd78-947395676921"
      },
      "execution_count": null,
      "outputs": [
        {
          "output_type": "execute_result",
          "data": {
            "text/plain": [
              "dask.array<ones_like, shape=(200000, 4000), dtype=float64, chunksize=(1000, 1000), chunktype=numpy.ndarray>"
            ],
            "text/html": [
              "<table>\n",
              "    <tr>\n",
              "        <td>\n",
              "            <table style=\"border-collapse: collapse;\">\n",
              "                <thead>\n",
              "                    <tr>\n",
              "                        <td> </td>\n",
              "                        <th> Array </th>\n",
              "                        <th> Chunk </th>\n",
              "                    </tr>\n",
              "                </thead>\n",
              "                <tbody>\n",
              "                    \n",
              "                    <tr>\n",
              "                        <th> Bytes </th>\n",
              "                        <td> 5.96 GiB </td>\n",
              "                        <td> 7.63 MiB </td>\n",
              "                    </tr>\n",
              "                    \n",
              "                    <tr>\n",
              "                        <th> Shape </th>\n",
              "                        <td> (200000, 4000) </td>\n",
              "                        <td> (1000, 1000) </td>\n",
              "                    </tr>\n",
              "                    <tr>\n",
              "                        <th> Dask graph </th>\n",
              "                        <td colspan=\"2\"> 800 chunks in 1 graph layer </td>\n",
              "                    </tr>\n",
              "                    <tr>\n",
              "                        <th> Data type </th>\n",
              "                        <td colspan=\"2\"> float64 numpy.ndarray </td>\n",
              "                    </tr>\n",
              "                </tbody>\n",
              "            </table>\n",
              "        </td>\n",
              "        <td>\n",
              "        <svg width=\"79\" height=\"170\" style=\"stroke:rgb(0,0,0);stroke-width:1\" >\n",
              "\n",
              "  <!-- Horizontal lines -->\n",
              "  <line x1=\"0\" y1=\"0\" x2=\"29\" y2=\"0\" style=\"stroke-width:2\" />\n",
              "  <line x1=\"0\" y1=\"6\" x2=\"29\" y2=\"6\" />\n",
              "  <line x1=\"0\" y1=\"12\" x2=\"29\" y2=\"12\" />\n",
              "  <line x1=\"0\" y1=\"18\" x2=\"29\" y2=\"18\" />\n",
              "  <line x1=\"0\" y1=\"25\" x2=\"29\" y2=\"25\" />\n",
              "  <line x1=\"0\" y1=\"31\" x2=\"29\" y2=\"31\" />\n",
              "  <line x1=\"0\" y1=\"37\" x2=\"29\" y2=\"37\" />\n",
              "  <line x1=\"0\" y1=\"43\" x2=\"29\" y2=\"43\" />\n",
              "  <line x1=\"0\" y1=\"50\" x2=\"29\" y2=\"50\" />\n",
              "  <line x1=\"0\" y1=\"56\" x2=\"29\" y2=\"56\" />\n",
              "  <line x1=\"0\" y1=\"63\" x2=\"29\" y2=\"63\" />\n",
              "  <line x1=\"0\" y1=\"69\" x2=\"29\" y2=\"69\" />\n",
              "  <line x1=\"0\" y1=\"75\" x2=\"29\" y2=\"75\" />\n",
              "  <line x1=\"0\" y1=\"81\" x2=\"29\" y2=\"81\" />\n",
              "  <line x1=\"0\" y1=\"88\" x2=\"29\" y2=\"88\" />\n",
              "  <line x1=\"0\" y1=\"94\" x2=\"29\" y2=\"94\" />\n",
              "  <line x1=\"0\" y1=\"100\" x2=\"29\" y2=\"100\" />\n",
              "  <line x1=\"0\" y1=\"106\" x2=\"29\" y2=\"106\" />\n",
              "  <line x1=\"0\" y1=\"113\" x2=\"29\" y2=\"113\" />\n",
              "  <line x1=\"0\" y1=\"120\" x2=\"29\" y2=\"120\" style=\"stroke-width:2\" />\n",
              "\n",
              "  <!-- Vertical lines -->\n",
              "  <line x1=\"0\" y1=\"0\" x2=\"0\" y2=\"120\" style=\"stroke-width:2\" />\n",
              "  <line x1=\"7\" y1=\"0\" x2=\"7\" y2=\"120\" />\n",
              "  <line x1=\"14\" y1=\"0\" x2=\"14\" y2=\"120\" />\n",
              "  <line x1=\"21\" y1=\"0\" x2=\"21\" y2=\"120\" />\n",
              "  <line x1=\"29\" y1=\"0\" x2=\"29\" y2=\"120\" style=\"stroke-width:2\" />\n",
              "\n",
              "  <!-- Colored Rectangle -->\n",
              "  <polygon points=\"0.0,0.0 29.030629010473877,0.0 29.030629010473877,120.0 0.0,120.0\" style=\"fill:#8B4903A0;stroke-width:0\"/>\n",
              "\n",
              "  <!-- Text -->\n",
              "  <text x=\"14.515315\" y=\"140.000000\" font-size=\"1.0rem\" font-weight=\"100\" text-anchor=\"middle\" >4000</text>\n",
              "  <text x=\"49.030629\" y=\"60.000000\" font-size=\"1.0rem\" font-weight=\"100\" text-anchor=\"middle\" transform=\"rotate(-90,49.030629,60.000000)\">200000</text>\n",
              "</svg>\n",
              "        </td>\n",
              "    </tr>\n",
              "</table>"
            ]
          },
          "metadata": {},
          "execution_count": 11
        }
      ]
    },
    {
      "cell_type": "code",
      "source": [
        "print('%.1f MB' % (big_ones.nbytes / (1024 * 1024)))"
      ],
      "metadata": {
        "colab": {
          "base_uri": "https://localhost:8080/"
        },
        "id": "8V7K6MjTWqJt",
        "outputId": "d1049f3a-d0fc-458a-899c-b49d7f1e7652"
      },
      "execution_count": null,
      "outputs": [
        {
          "output_type": "stream",
          "name": "stdout",
          "text": [
            "6103.5 MB\n"
          ]
        }
      ]
    },
    {
      "cell_type": "code",
      "source": [
        "big_calc = (big_ones * big_ones[::-1, ::-1]).mean()\n",
        "\n",
        "result = big_calc.compute()\n",
        "result"
      ],
      "metadata": {
        "colab": {
          "base_uri": "https://localhost:8080/"
        },
        "id": "1UdJD7ktWxuj",
        "outputId": "0eb80850-11a6-4b72-ce36-b840830a080c"
      },
      "execution_count": null,
      "outputs": [
        {
          "output_type": "execute_result",
          "data": {
            "text/plain": [
              "np.float64(1.0)"
            ]
          },
          "metadata": {},
          "execution_count": 13
        }
      ]
    },
    {
      "cell_type": "code",
      "source": [
        "big_ones_reduce = (np.cos(big_ones)**2).mean(axis=1)\n",
        "big_ones_reduce"
      ],
      "metadata": {
        "colab": {
          "base_uri": "https://localhost:8080/",
          "height": 120
        },
        "id": "CPpdX6xrYmMp",
        "outputId": "f86e1929-be88-426a-e35a-587009f1273f"
      },
      "execution_count": null,
      "outputs": [
        {
          "output_type": "execute_result",
          "data": {
            "text/plain": [
              "dask.array<mean_agg-aggregate, shape=(200000,), dtype=float64, chunksize=(1000,), chunktype=numpy.ndarray>"
            ],
            "text/html": [
              "<table>\n",
              "    <tr>\n",
              "        <td>\n",
              "            <table style=\"border-collapse: collapse;\">\n",
              "                <thead>\n",
              "                    <tr>\n",
              "                        <td> </td>\n",
              "                        <th> Array </th>\n",
              "                        <th> Chunk </th>\n",
              "                    </tr>\n",
              "                </thead>\n",
              "                <tbody>\n",
              "                    \n",
              "                    <tr>\n",
              "                        <th> Bytes </th>\n",
              "                        <td> 1.53 MiB </td>\n",
              "                        <td> 7.81 kiB </td>\n",
              "                    </tr>\n",
              "                    \n",
              "                    <tr>\n",
              "                        <th> Shape </th>\n",
              "                        <td> (200000,) </td>\n",
              "                        <td> (1000,) </td>\n",
              "                    </tr>\n",
              "                    <tr>\n",
              "                        <th> Dask graph </th>\n",
              "                        <td colspan=\"2\"> 200 chunks in 5 graph layers </td>\n",
              "                    </tr>\n",
              "                    <tr>\n",
              "                        <th> Data type </th>\n",
              "                        <td colspan=\"2\"> float64 numpy.ndarray </td>\n",
              "                    </tr>\n",
              "                </tbody>\n",
              "            </table>\n",
              "        </td>\n",
              "        <td>\n",
              "        <svg width=\"170\" height=\"75\" style=\"stroke:rgb(0,0,0);stroke-width:1\" >\n",
              "\n",
              "  <!-- Horizontal lines -->\n",
              "  <line x1=\"0\" y1=\"0\" x2=\"120\" y2=\"0\" style=\"stroke-width:2\" />\n",
              "  <line x1=\"0\" y1=\"25\" x2=\"120\" y2=\"25\" style=\"stroke-width:2\" />\n",
              "\n",
              "  <!-- Vertical lines -->\n",
              "  <line x1=\"0\" y1=\"0\" x2=\"0\" y2=\"25\" style=\"stroke-width:2\" />\n",
              "  <line x1=\"6\" y1=\"0\" x2=\"6\" y2=\"25\" />\n",
              "  <line x1=\"12\" y1=\"0\" x2=\"12\" y2=\"25\" />\n",
              "  <line x1=\"18\" y1=\"0\" x2=\"18\" y2=\"25\" />\n",
              "  <line x1=\"25\" y1=\"0\" x2=\"25\" y2=\"25\" />\n",
              "  <line x1=\"31\" y1=\"0\" x2=\"31\" y2=\"25\" />\n",
              "  <line x1=\"37\" y1=\"0\" x2=\"37\" y2=\"25\" />\n",
              "  <line x1=\"43\" y1=\"0\" x2=\"43\" y2=\"25\" />\n",
              "  <line x1=\"50\" y1=\"0\" x2=\"50\" y2=\"25\" />\n",
              "  <line x1=\"56\" y1=\"0\" x2=\"56\" y2=\"25\" />\n",
              "  <line x1=\"63\" y1=\"0\" x2=\"63\" y2=\"25\" />\n",
              "  <line x1=\"69\" y1=\"0\" x2=\"69\" y2=\"25\" />\n",
              "  <line x1=\"75\" y1=\"0\" x2=\"75\" y2=\"25\" />\n",
              "  <line x1=\"81\" y1=\"0\" x2=\"81\" y2=\"25\" />\n",
              "  <line x1=\"88\" y1=\"0\" x2=\"88\" y2=\"25\" />\n",
              "  <line x1=\"94\" y1=\"0\" x2=\"94\" y2=\"25\" />\n",
              "  <line x1=\"100\" y1=\"0\" x2=\"100\" y2=\"25\" />\n",
              "  <line x1=\"106\" y1=\"0\" x2=\"106\" y2=\"25\" />\n",
              "  <line x1=\"113\" y1=\"0\" x2=\"113\" y2=\"25\" />\n",
              "  <line x1=\"120\" y1=\"0\" x2=\"120\" y2=\"25\" style=\"stroke-width:2\" />\n",
              "\n",
              "  <!-- Colored Rectangle -->\n",
              "  <polygon points=\"0.0,0.0 120.0,0.0 120.0,25.412616514582485 0.0,25.412616514582485\" style=\"fill:#8B4903A0;stroke-width:0\"/>\n",
              "\n",
              "  <!-- Text -->\n",
              "  <text x=\"60.000000\" y=\"45.412617\" font-size=\"1.0rem\" font-weight=\"100\" text-anchor=\"middle\" >200000</text>\n",
              "  <text x=\"140.000000\" y=\"12.706308\" font-size=\"1.0rem\" font-weight=\"100\" text-anchor=\"middle\" transform=\"rotate(0,140.000000,12.706308)\">1</text>\n",
              "</svg>\n",
              "        </td>\n",
              "    </tr>\n",
              "</table>"
            ]
          },
          "metadata": {},
          "execution_count": 14
        }
      ]
    },
    {
      "cell_type": "code",
      "source": [
        "import gc\n",
        "\n",
        "del big_ones\n",
        "del big_ones_reduce\n",
        "\n",
        "gc.collect()"
      ],
      "metadata": {
        "colab": {
          "base_uri": "https://localhost:8080/"
        },
        "id": "NeF_cRycb7wR",
        "outputId": "7c1cc0a6-adba-4918-fd22-a7cbff5292f5"
      },
      "execution_count": null,
      "outputs": [
        {
          "output_type": "execute_result",
          "data": {
            "text/plain": [
              "6806"
            ]
          },
          "metadata": {},
          "execution_count": 15
        }
      ]
    },
    {
      "cell_type": "markdown",
      "source": [
        "### Dask DataFrame"
      ],
      "metadata": {
        "id": "sz6GbeVlPlVy"
      }
    },
    {
      "cell_type": "code",
      "source": [
        "import kagglehub\n",
        "\n",
        "path = kagglehub.dataset_download(\"elemento/nyc-yellow-taxi-trip-data\")\n",
        "\n",
        "print(\"Path to dataset files:\", path)"
      ],
      "metadata": {
        "colab": {
          "base_uri": "https://localhost:8080/"
        },
        "id": "ZVbSaJcroCdU",
        "outputId": "de7c5da8-975d-49cf-f54a-3f42fd9f4b7f"
      },
      "execution_count": null,
      "outputs": [
        {
          "output_type": "stream",
          "name": "stdout",
          "text": [
            "Downloading from https://www.kaggle.com/api/v1/datasets/download/elemento/nyc-yellow-taxi-trip-data?dataset_version_number=2...\n"
          ]
        },
        {
          "output_type": "stream",
          "name": "stderr",
          "text": [
            "100%|██████████| 1.78G/1.78G [00:23<00:00, 80.7MB/s]"
          ]
        },
        {
          "output_type": "stream",
          "name": "stdout",
          "text": [
            "Extracting files...\n"
          ]
        },
        {
          "output_type": "stream",
          "name": "stderr",
          "text": [
            "\n"
          ]
        },
        {
          "output_type": "stream",
          "name": "stdout",
          "text": [
            "Path to dataset files: /root/.cache/kagglehub/datasets/elemento/nyc-yellow-taxi-trip-data/versions/2\n"
          ]
        }
      ]
    },
    {
      "cell_type": "code",
      "source": [
        "!ls /root/.cache/kagglehub/datasets/elemento/nyc-yellow-taxi-trip-data/versions/2"
      ],
      "metadata": {
        "colab": {
          "base_uri": "https://localhost:8080/"
        },
        "id": "2kMNvGS-pNi4",
        "outputId": "f711c927-2aea-4601-9485-e555944e159b"
      },
      "execution_count": null,
      "outputs": [
        {
          "output_type": "stream",
          "name": "stdout",
          "text": [
            "yellow_tripdata_2015-01.csv  yellow_tripdata_2016-02.csv\n",
            "yellow_tripdata_2016-01.csv  yellow_tripdata_2016-03.csv\n"
          ]
        }
      ]
    },
    {
      "cell_type": "code",
      "source": [
        "# Чтение всех CSV-файлов в папке /content/data\n",
        "ddf = dd.read_csv(\"/root/.cache/kagglehub/datasets/elemento/nyc-yellow-taxi-trip-data/versions/2/yellow_tripdata_2016-*.csv\",\n",
        "                  usecols=[\"passenger_count\", \"tip_amount\", \"tpep_pickup_datetime\"],\n",
        "                  dtype={\"passenger_count\": \"Int64\", \"tip_amount\": \"float64\"},\n",
        "                  parse_dates=[\"tpep_pickup_datetime\"],\n",
        "                  blocksize=\"100MB\",\n",
        "                  assume_missing=True)"
      ],
      "metadata": {
        "id": "tGl26x68pd8d"
      },
      "execution_count": null,
      "outputs": []
    },
    {
      "cell_type": "markdown",
      "source": [
        "![image.png](data:image/png;base64,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)"
      ],
      "metadata": {
        "id": "GmGM8Tcpv3Ip"
      }
    },
    {
      "cell_type": "code",
      "source": [
        "ddf.head()"
      ],
      "metadata": {
        "id": "x3cmke3lFocp",
        "colab": {
          "base_uri": "https://localhost:8080/",
          "height": 206
        },
        "outputId": "e9c866d2-0913-4657-c16e-e4eafbfa14b9"
      },
      "execution_count": null,
      "outputs": [
        {
          "output_type": "execute_result",
          "data": {
            "text/plain": [
              "  tpep_pickup_datetime  passenger_count  tip_amount\n",
              "0           2016-01-01                2         0.0\n",
              "1           2016-01-01                5         0.0\n",
              "2           2016-01-01                1         0.0\n",
              "3           2016-01-01                1         0.0\n",
              "4           2016-01-01                3         0.0"
            ],
            "text/html": [
              "\n",
              "  <div id=\"df-bbe7b4cd-ac46-43d3-899c-4cf79f95008e\" class=\"colab-df-container\">\n",
              "    <div>\n",
              "<style scoped>\n",
              "    .dataframe tbody tr th:only-of-type {\n",
              "        vertical-align: middle;\n",
              "    }\n",
              "\n",
              "    .dataframe tbody tr th {\n",
              "        vertical-align: top;\n",
              "    }\n",
              "\n",
              "    .dataframe thead th {\n",
              "        text-align: right;\n",
              "    }\n",
              "</style>\n",
              "<table border=\"1\" class=\"dataframe\">\n",
              "  <thead>\n",
              "    <tr style=\"text-align: right;\">\n",
              "      <th></th>\n",
              "      <th>tpep_pickup_datetime</th>\n",
              "      <th>passenger_count</th>\n",
              "      <th>tip_amount</th>\n",
              "    </tr>\n",
              "  </thead>\n",
              "  <tbody>\n",
              "    <tr>\n",
              "      <th>0</th>\n",
              "      <td>2016-01-01</td>\n",
              "      <td>2</td>\n",
              "      <td>0.0</td>\n",
              "    </tr>\n",
              "    <tr>\n",
              "      <th>1</th>\n",
              "      <td>2016-01-01</td>\n",
              "      <td>5</td>\n",
              "      <td>0.0</td>\n",
              "    </tr>\n",
              "    <tr>\n",
              "      <th>2</th>\n",
              "      <td>2016-01-01</td>\n",
              "      <td>1</td>\n",
              "      <td>0.0</td>\n",
              "    </tr>\n",
              "    <tr>\n",
              "      <th>3</th>\n",
              "      <td>2016-01-01</td>\n",
              "      <td>1</td>\n",
              "      <td>0.0</td>\n",
              "    </tr>\n",
              "    <tr>\n",
              "      <th>4</th>\n",
              "      <td>2016-01-01</td>\n",
              "      <td>3</td>\n",
              "      <td>0.0</td>\n",
              "    </tr>\n",
              "  </tbody>\n",
              "</table>\n",
              "</div>\n",
              "    <div class=\"colab-df-buttons\">\n",
              "\n",
              "  <div class=\"colab-df-container\">\n",
              "    <button class=\"colab-df-convert\" onclick=\"convertToInteractive('df-bbe7b4cd-ac46-43d3-899c-4cf79f95008e')\"\n",
              "            title=\"Convert this dataframe to an interactive table.\"\n",
              "            style=\"display:none;\">\n",
              "\n",
              "  <svg xmlns=\"http://www.w3.org/2000/svg\" height=\"24px\" viewBox=\"0 -960 960 960\">\n",
              "    <path d=\"M120-120v-720h720v720H120Zm60-500h600v-160H180v160Zm220 220h160v-160H400v160Zm0 220h160v-160H400v160ZM180-400h160v-160H180v160Zm440 0h160v-160H620v160ZM180-180h160v-160H180v160Zm440 0h160v-160H620v160Z\"/>\n",
              "  </svg>\n",
              "    </button>\n",
              "\n",
              "  <style>\n",
              "    .colab-df-container {\n",
              "      display:flex;\n",
              "      gap: 12px;\n",
              "    }\n",
              "\n",
              "    .colab-df-convert {\n",
              "      background-color: #E8F0FE;\n",
              "      border: none;\n",
              "      border-radius: 50%;\n",
              "      cursor: pointer;\n",
              "      display: none;\n",
              "      fill: #1967D2;\n",
              "      height: 32px;\n",
              "      padding: 0 0 0 0;\n",
              "      width: 32px;\n",
              "    }\n",
              "\n",
              "    .colab-df-convert:hover {\n",
              "      background-color: #E2EBFA;\n",
              "      box-shadow: 0px 1px 2px rgba(60, 64, 67, 0.3), 0px 1px 3px 1px rgba(60, 64, 67, 0.15);\n",
              "      fill: #174EA6;\n",
              "    }\n",
              "\n",
              "    .colab-df-buttons div {\n",
              "      margin-bottom: 4px;\n",
              "    }\n",
              "\n",
              "    [theme=dark] .colab-df-convert {\n",
              "      background-color: #3B4455;\n",
              "      fill: #D2E3FC;\n",
              "    }\n",
              "\n",
              "    [theme=dark] .colab-df-convert:hover {\n",
              "      background-color: #434B5C;\n",
              "      box-shadow: 0px 1px 3px 1px rgba(0, 0, 0, 0.15);\n",
              "      filter: drop-shadow(0px 1px 2px rgba(0, 0, 0, 0.3));\n",
              "      fill: #FFFFFF;\n",
              "    }\n",
              "  </style>\n",
              "\n",
              "    <script>\n",
              "      const buttonEl =\n",
              "        document.querySelector('#df-bbe7b4cd-ac46-43d3-899c-4cf79f95008e button.colab-df-convert');\n",
              "      buttonEl.style.display =\n",
              "        google.colab.kernel.accessAllowed ? 'block' : 'none';\n",
              "\n",
              "      async function convertToInteractive(key) {\n",
              "        const element = document.querySelector('#df-bbe7b4cd-ac46-43d3-899c-4cf79f95008e');\n",
              "        const dataTable =\n",
              "          await google.colab.kernel.invokeFunction('convertToInteractive',\n",
              "                                                    [key], {});\n",
              "        if (!dataTable) return;\n",
              "\n",
              "        const docLinkHtml = 'Like what you see? Visit the ' +\n",
              "          '<a target=\"_blank\" href=https://colab.research.google.com/notebooks/data_table.ipynb>data table notebook</a>'\n",
              "          + ' to learn more about interactive tables.';\n",
              "        element.innerHTML = '';\n",
              "        dataTable['output_type'] = 'display_data';\n",
              "        await google.colab.output.renderOutput(dataTable, element);\n",
              "        const docLink = document.createElement('div');\n",
              "        docLink.innerHTML = docLinkHtml;\n",
              "        element.appendChild(docLink);\n",
              "      }\n",
              "    </script>\n",
              "  </div>\n",
              "\n",
              "\n",
              "    <div id=\"df-7c3dd79e-70cc-495c-a4ef-6079f2cf03fc\">\n",
              "      <button class=\"colab-df-quickchart\" onclick=\"quickchart('df-7c3dd79e-70cc-495c-a4ef-6079f2cf03fc')\"\n",
              "                title=\"Suggest charts\"\n",
              "                style=\"display:none;\">\n",
              "\n",
              "<svg xmlns=\"http://www.w3.org/2000/svg\" height=\"24px\"viewBox=\"0 0 24 24\"\n",
              "     width=\"24px\">\n",
              "    <g>\n",
              "        <path d=\"M19 3H5c-1.1 0-2 .9-2 2v14c0 1.1.9 2 2 2h14c1.1 0 2-.9 2-2V5c0-1.1-.9-2-2-2zM9 17H7v-7h2v7zm4 0h-2V7h2v10zm4 0h-2v-4h2v4z\"/>\n",
              "    </g>\n",
              "</svg>\n",
              "      </button>\n",
              "\n",
              "<style>\n",
              "  .colab-df-quickchart {\n",
              "      --bg-color: #E8F0FE;\n",
              "      --fill-color: #1967D2;\n",
              "      --hover-bg-color: #E2EBFA;\n",
              "      --hover-fill-color: #174EA6;\n",
              "      --disabled-fill-color: #AAA;\n",
              "      --disabled-bg-color: #DDD;\n",
              "  }\n",
              "\n",
              "  [theme=dark] .colab-df-quickchart {\n",
              "      --bg-color: #3B4455;\n",
              "      --fill-color: #D2E3FC;\n",
              "      --hover-bg-color: #434B5C;\n",
              "      --hover-fill-color: #FFFFFF;\n",
              "      --disabled-bg-color: #3B4455;\n",
              "      --disabled-fill-color: #666;\n",
              "  }\n",
              "\n",
              "  .colab-df-quickchart {\n",
              "    background-color: var(--bg-color);\n",
              "    border: none;\n",
              "    border-radius: 50%;\n",
              "    cursor: pointer;\n",
              "    display: none;\n",
              "    fill: var(--fill-color);\n",
              "    height: 32px;\n",
              "    padding: 0;\n",
              "    width: 32px;\n",
              "  }\n",
              "\n",
              "  .colab-df-quickchart:hover {\n",
              "    background-color: var(--hover-bg-color);\n",
              "    box-shadow: 0 1px 2px rgba(60, 64, 67, 0.3), 0 1px 3px 1px rgba(60, 64, 67, 0.15);\n",
              "    fill: var(--button-hover-fill-color);\n",
              "  }\n",
              "\n",
              "  .colab-df-quickchart-complete:disabled,\n",
              "  .colab-df-quickchart-complete:disabled:hover {\n",
              "    background-color: var(--disabled-bg-color);\n",
              "    fill: var(--disabled-fill-color);\n",
              "    box-shadow: none;\n",
              "  }\n",
              "\n",
              "  .colab-df-spinner {\n",
              "    border: 2px solid var(--fill-color);\n",
              "    border-color: transparent;\n",
              "    border-bottom-color: var(--fill-color);\n",
              "    animation:\n",
              "      spin 1s steps(1) infinite;\n",
              "  }\n",
              "\n",
              "  @keyframes spin {\n",
              "    0% {\n",
              "      border-color: transparent;\n",
              "      border-bottom-color: var(--fill-color);\n",
              "      border-left-color: var(--fill-color);\n",
              "    }\n",
              "    20% {\n",
              "      border-color: transparent;\n",
              "      border-left-color: var(--fill-color);\n",
              "      border-top-color: var(--fill-color);\n",
              "    }\n",
              "    30% {\n",
              "      border-color: transparent;\n",
              "      border-left-color: var(--fill-color);\n",
              "      border-top-color: var(--fill-color);\n",
              "      border-right-color: var(--fill-color);\n",
              "    }\n",
              "    40% {\n",
              "      border-color: transparent;\n",
              "      border-right-color: var(--fill-color);\n",
              "      border-top-color: var(--fill-color);\n",
              "    }\n",
              "    60% {\n",
              "      border-color: transparent;\n",
              "      border-right-color: var(--fill-color);\n",
              "    }\n",
              "    80% {\n",
              "      border-color: transparent;\n",
              "      border-right-color: var(--fill-color);\n",
              "      border-bottom-color: var(--fill-color);\n",
              "    }\n",
              "    90% {\n",
              "      border-color: transparent;\n",
              "      border-bottom-color: var(--fill-color);\n",
              "    }\n",
              "  }\n",
              "</style>\n",
              "\n",
              "      <script>\n",
              "        async function quickchart(key) {\n",
              "          const quickchartButtonEl =\n",
              "            document.querySelector('#' + key + ' button');\n",
              "          quickchartButtonEl.disabled = true;  // To prevent multiple clicks.\n",
              "          quickchartButtonEl.classList.add('colab-df-spinner');\n",
              "          try {\n",
              "            const charts = await google.colab.kernel.invokeFunction(\n",
              "                'suggestCharts', [key], {});\n",
              "          } catch (error) {\n",
              "            console.error('Error during call to suggestCharts:', error);\n",
              "          }\n",
              "          quickchartButtonEl.classList.remove('colab-df-spinner');\n",
              "          quickchartButtonEl.classList.add('colab-df-quickchart-complete');\n",
              "        }\n",
              "        (() => {\n",
              "          let quickchartButtonEl =\n",
              "            document.querySelector('#df-7c3dd79e-70cc-495c-a4ef-6079f2cf03fc button');\n",
              "          quickchartButtonEl.style.display =\n",
              "            google.colab.kernel.accessAllowed ? 'block' : 'none';\n",
              "        })();\n",
              "      </script>\n",
              "    </div>\n",
              "\n",
              "    </div>\n",
              "  </div>\n"
            ],
            "application/vnd.google.colaboratory.intrinsic+json": {
              "type": "dataframe",
              "summary": "{\n  \"name\": \"ddf\",\n  \"rows\": 5,\n  \"fields\": [\n    {\n      \"column\": \"tpep_pickup_datetime\",\n      \"properties\": {\n        \"dtype\": \"date\",\n        \"min\": \"2016-01-01 00:00:00\",\n        \"max\": \"2016-01-01 00:00:00\",\n        \"num_unique_values\": 1,\n        \"samples\": [\n          \"2016-01-01 00:00:00\"\n        ],\n        \"semantic_type\": \"\",\n        \"description\": \"\"\n      }\n    },\n    {\n      \"column\": \"passenger_count\",\n      \"properties\": {\n        \"dtype\": \"Int64\",\n        \"num_unique_values\": 4,\n        \"samples\": [\n          5\n        ],\n        \"semantic_type\": \"\",\n        \"description\": \"\"\n      }\n    },\n    {\n      \"column\": \"tip_amount\",\n      \"properties\": {\n        \"dtype\": \"number\",\n        \"std\": 0.0,\n        \"min\": 0.0,\n        \"max\": 0.0,\n        \"num_unique_values\": 1,\n        \"samples\": [\n          0.0\n        ],\n        \"semantic_type\": \"\",\n        \"description\": \"\"\n      }\n    }\n  ]\n}"
            }
          },
          "metadata": {},
          "execution_count": 31
        }
      ]
    },
    {
      "cell_type": "code",
      "source": [
        "len(ddf)"
      ],
      "metadata": {
        "colab": {
          "base_uri": "https://localhost:8080/"
        },
        "id": "m6coDiJcU3xR",
        "outputId": "07396593-0b41-403e-9705-f9f6bde0e068"
      },
      "execution_count": null,
      "outputs": [
        {
          "output_type": "execute_result",
          "data": {
            "text/plain": [
              "34499859"
            ]
          },
          "metadata": {},
          "execution_count": 32
        }
      ]
    },
    {
      "cell_type": "code",
      "source": [
        "type(ddf)"
      ],
      "metadata": {
        "colab": {
          "base_uri": "https://localhost:8080/",
          "height": 187
        },
        "id": "i4axB1tvJVmw",
        "outputId": "3866d663-57df-4a64-f6ab-8e451303f898"
      },
      "execution_count": null,
      "outputs": [
        {
          "output_type": "execute_result",
          "data": {
            "text/plain": [
              "dask.dataframe.dask_expr._collection.DataFrame"
            ],
            "text/html": [
              "<div style=\"max-width:800px; border: 1px solid var(--colab-border-color);\"><style>\n",
              "      pre.function-repr-contents {\n",
              "        overflow-x: auto;\n",
              "        padding: 8px 12px;\n",
              "        max-height: 500px;\n",
              "      }\n",
              "\n",
              "      pre.function-repr-contents.function-repr-contents-collapsed {\n",
              "        cursor: pointer;\n",
              "        max-height: 100px;\n",
              "      }\n",
              "    </style>\n",
              "    <pre style=\"white-space: initial; background:\n",
              "         var(--colab-secondary-surface-color); padding: 8px 12px;\n",
              "         border-bottom: 1px solid var(--colab-border-color);\"><b>dask.dataframe.dask_expr._collection.DataFrame</b><br/>def __init__(expr)</pre><pre class=\"function-repr-contents function-repr-contents-collapsed\" style=\"\"><a class=\"filepath\" style=\"display:none\" href=\"#\">/usr/local/lib/python3.12/dist-packages/dask/dataframe/dask_expr/_collection.py</a>DataFrame-like Expr Collection.\n",
              "\n",
              "The constructor takes the expression that represents the query as input. The class\n",
              "is not meant to be instantiated directly. Instead, use one of the IO connectors from\n",
              "Dask.</pre>\n",
              "      <script>\n",
              "      if (google.colab.kernel.accessAllowed && google.colab.files && google.colab.files.view) {\n",
              "        for (const element of document.querySelectorAll('.filepath')) {\n",
              "          element.style.display = 'block'\n",
              "          element.onclick = (event) => {\n",
              "            event.preventDefault();\n",
              "            event.stopPropagation();\n",
              "            google.colab.files.view(element.textContent, 2676);\n",
              "          };\n",
              "        }\n",
              "      }\n",
              "      for (const element of document.querySelectorAll('.function-repr-contents')) {\n",
              "        element.onclick = (event) => {\n",
              "          event.preventDefault();\n",
              "          event.stopPropagation();\n",
              "          element.classList.toggle('function-repr-contents-collapsed');\n",
              "        };\n",
              "      }\n",
              "      </script>\n",
              "      </div>"
            ]
          },
          "metadata": {},
          "execution_count": 33
        }
      ]
    },
    {
      "cell_type": "markdown",
      "source": [
        "Dask DataFrame состоит из множества объектов Pandas DataFrame/Series. Эти объекты pandas могут находиться на одном диске или на разных машинах."
      ],
      "metadata": {
        "id": "6kOE8P5lJkmg"
      }
    },
    {
      "cell_type": "markdown",
      "source": [
        "![image.png](data:image/png;base64,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)"
      ],
      "metadata": {
        "id": "x0TAXzW2Je8g"
      }
    },
    {
      "cell_type": "markdown",
      "source": [
        "### Ленивые вычисления & граф вычислений"
      ],
      "metadata": {
        "id": "6FriRvtEQH7x"
      }
    },
    {
      "cell_type": "code",
      "source": [
        "result = ddf.groupby(\"passenger_count\").tip_amount.mean()\n",
        "result"
      ],
      "metadata": {
        "id": "mGCbxplaFogP",
        "colab": {
          "base_uri": "https://localhost:8080/"
        },
        "outputId": "09d43364-08df-4499-f076-5d45db39fccd"
      },
      "execution_count": null,
      "outputs": [
        {
          "output_type": "execute_result",
          "data": {
            "text/plain": [
              "Dask Series Structure:\n",
              "npartitions=1\n",
              "    float64\n",
              "        ...\n",
              "Dask Name: getitem, 5 expressions\n",
              "Expr=((ArrowStringConversion(frame=FromMapProjectable(905f656))[['passenger_count', 'tip_amount']]).mean(observed=False, chunk_kwargs={'numeric_only': False}, aggregate_kwargs={'numeric_only': False}, _slice='tip_amount'))['tip_amount']"
            ]
          },
          "metadata": {},
          "execution_count": 34
        }
      ]
    },
    {
      "cell_type": "code",
      "source": [
        "result.visualize()"
      ],
      "metadata": {
        "colab": {
          "base_uri": "https://localhost:8080/",
          "height": 464
        },
        "id": "ebN89lrEMPK8",
        "outputId": "d224339f-443b-4269-8687-7920d88345b7"
      },
      "execution_count": null,
      "outputs": [
        {
          "output_type": "execute_result",
          "data": {
            "image/svg+xml": "<?xml version=\"1.0\" encoding=\"UTF-8\" standalone=\"no\"?>\n<!DOCTYPE svg PUBLIC \"-//W3C//DTD SVG 1.1//EN\"\n \"http://www.w3.org/Graphics/SVG/1.1/DTD/svg11.dtd\">\n<!-- Generated by graphviz version 2.43.0 (0)\n -->\n<!-- Title: %3 Pages: 1 -->\n<svg width=\"633pt\" height=\"332pt\"\n viewBox=\"0.00 0.00 633.00 332.00\" xmlns=\"http://www.w3.org/2000/svg\" xmlns:xlink=\"http://www.w3.org/1999/xlink\">\n<g id=\"graph0\" class=\"graph\" transform=\"scale(1 1) rotate(0) translate(4 328)\">\n<title>%3</title>\n<polygon fill=\"white\" stroke=\"transparent\" points=\"-4,4 -4,-328 629,-328 629,4 -4,4\"/>\n<!-- 7714678163511565537 -->\n<g id=\"node1\" class=\"node\">\n<title>7714678163511565537</title>\n<polygon fill=\"none\" stroke=\"black\" points=\"452,-324 173,-324 173,-288 452,-288 452,-324\"/>\n<text text-anchor=\"middle\" x=\"312.5\" y=\"-301\" font-family=\"Helvetica,sans-Serif\" font-size=\"20.00\">Projection(Mean, tip_amount)</text>\n</g>\n<!-- 4750736191424207195 -->\n<g id=\"node2\" class=\"node\">\n<title>4750736191424207195</title>\n<polygon fill=\"none\" stroke=\"black\" points=\"397.5,-252 227.5,-252 227.5,-216 397.5,-216 397.5,-252\"/>\n<text text-anchor=\"middle\" x=\"312.5\" y=\"-229\" font-family=\"Helvetica,sans-Serif\" font-size=\"20.00\">Mean(Projection)</text>\n</g>\n<!-- 4750736191424207195&#45;&gt;7714678163511565537 -->\n<g id=\"edge1\" class=\"edge\">\n<title>4750736191424207195&#45;&gt;7714678163511565537</title>\n<path fill=\"none\" stroke=\"black\" d=\"M312.5,-252.3C312.5,-260.02 312.5,-269.29 312.5,-277.89\"/>\n<polygon fill=\"black\" stroke=\"black\" points=\"309,-277.9 312.5,-287.9 316,-277.9 309,-277.9\"/>\n</g>\n<!-- &#45;2877554601303678516 -->\n<g id=\"node3\" class=\"node\">\n<title>&#45;2877554601303678516</title>\n<polygon fill=\"none\" stroke=\"black\" points=\"625,-180 0,-180 0,-144 625,-144 625,-180\"/>\n<text text-anchor=\"middle\" x=\"312.5\" y=\"-157\" font-family=\"Helvetica,sans-Serif\" font-size=\"20.00\">Projection(ArrowStringConversion, [&#39;passenger_count&#39;, &#39;tip_amount&#39;])</text>\n</g>\n<!-- &#45;2877554601303678516&#45;&gt;4750736191424207195 -->\n<g id=\"edge2\" class=\"edge\">\n<title>&#45;2877554601303678516&#45;&gt;4750736191424207195</title>\n<path fill=\"none\" stroke=\"black\" d=\"M312.5,-180.3C312.5,-188.02 312.5,-197.29 312.5,-205.89\"/>\n<polygon fill=\"black\" stroke=\"black\" points=\"309,-205.9 312.5,-215.9 316,-205.9 309,-205.9\"/>\n</g>\n<!-- &#45;4641832223179922638 -->\n<g id=\"node4\" class=\"node\">\n<title>&#45;4641832223179922638</title>\n<polygon fill=\"none\" stroke=\"black\" points=\"523.5,-108 101.5,-108 101.5,-72 523.5,-72 523.5,-108\"/>\n<text text-anchor=\"middle\" x=\"312.5\" y=\"-85\" font-family=\"Helvetica,sans-Serif\" font-size=\"20.00\">ArrowStringConversion(FromMapProjectable)</text>\n</g>\n<!-- &#45;4641832223179922638&#45;&gt;&#45;2877554601303678516 -->\n<g id=\"edge3\" class=\"edge\">\n<title>&#45;4641832223179922638&#45;&gt;&#45;2877554601303678516</title>\n<path fill=\"none\" stroke=\"black\" d=\"M312.5,-108.3C312.5,-116.02 312.5,-125.29 312.5,-133.89\"/>\n<polygon fill=\"black\" stroke=\"black\" points=\"309,-133.9 312.5,-143.9 316,-133.9 309,-133.9\"/>\n</g>\n<!-- &#45;3581188412731891105 -->\n<g id=\"node5\" class=\"node\">\n<title>&#45;3581188412731891105</title>\n<polygon fill=\"none\" stroke=\"black\" points=\"414,-36 211,-36 211,0 414,0 414,-36\"/>\n<text text-anchor=\"middle\" x=\"312.5\" y=\"-13\" font-family=\"Helvetica,sans-Serif\" font-size=\"20.00\">FromMapProjectable</text>\n</g>\n<!-- &#45;3581188412731891105&#45;&gt;&#45;4641832223179922638 -->\n<g id=\"edge4\" class=\"edge\">\n<title>&#45;3581188412731891105&#45;&gt;&#45;4641832223179922638</title>\n<path fill=\"none\" stroke=\"black\" d=\"M312.5,-36.3C312.5,-44.02 312.5,-53.29 312.5,-61.89\"/>\n<polygon fill=\"black\" stroke=\"black\" points=\"309,-61.9 312.5,-71.9 316,-61.9 309,-61.9\"/>\n</g>\n</g>\n</svg>\n",
            "text/plain": [
              "<graphviz.graphs.Digraph at 0x7af2745115e0>"
            ]
          },
          "metadata": {},
          "execution_count": 35
        }
      ]
    },
    {
      "cell_type": "code",
      "source": [
        "result.visualize(filename='dask_graph.pdf')"
      ],
      "metadata": {
        "id": "EYBXe6N7Odgy",
        "colab": {
          "base_uri": "https://localhost:8080/",
          "height": 464
        },
        "outputId": "69131749-bfea-4078-a152-efd714c05e47"
      },
      "execution_count": null,
      "outputs": [
        {
          "output_type": "execute_result",
          "data": {
            "image/svg+xml": "<?xml version=\"1.0\" encoding=\"UTF-8\" standalone=\"no\"?>\n<!DOCTYPE svg PUBLIC \"-//W3C//DTD SVG 1.1//EN\"\n \"http://www.w3.org/Graphics/SVG/1.1/DTD/svg11.dtd\">\n<!-- Generated by graphviz version 2.43.0 (0)\n -->\n<!-- Title: %3 Pages: 1 -->\n<svg width=\"633pt\" height=\"332pt\"\n viewBox=\"0.00 0.00 633.00 332.00\" xmlns=\"http://www.w3.org/2000/svg\" xmlns:xlink=\"http://www.w3.org/1999/xlink\">\n<g id=\"graph0\" class=\"graph\" transform=\"scale(1 1) rotate(0) translate(4 328)\">\n<title>%3</title>\n<polygon fill=\"white\" stroke=\"transparent\" points=\"-4,4 -4,-328 629,-328 629,4 -4,4\"/>\n<!-- 7714678163511565537 -->\n<g id=\"node1\" class=\"node\">\n<title>7714678163511565537</title>\n<polygon fill=\"none\" stroke=\"black\" points=\"452,-324 173,-324 173,-288 452,-288 452,-324\"/>\n<text text-anchor=\"middle\" x=\"312.5\" y=\"-301\" font-family=\"Helvetica,sans-Serif\" font-size=\"20.00\">Projection(Mean, tip_amount)</text>\n</g>\n<!-- 4750736191424207195 -->\n<g id=\"node2\" class=\"node\">\n<title>4750736191424207195</title>\n<polygon fill=\"none\" stroke=\"black\" points=\"397.5,-252 227.5,-252 227.5,-216 397.5,-216 397.5,-252\"/>\n<text text-anchor=\"middle\" x=\"312.5\" y=\"-229\" font-family=\"Helvetica,sans-Serif\" font-size=\"20.00\">Mean(Projection)</text>\n</g>\n<!-- 4750736191424207195&#45;&gt;7714678163511565537 -->\n<g id=\"edge1\" class=\"edge\">\n<title>4750736191424207195&#45;&gt;7714678163511565537</title>\n<path fill=\"none\" stroke=\"black\" d=\"M312.5,-252.3C312.5,-260.02 312.5,-269.29 312.5,-277.89\"/>\n<polygon fill=\"black\" stroke=\"black\" points=\"309,-277.9 312.5,-287.9 316,-277.9 309,-277.9\"/>\n</g>\n<!-- &#45;2877554601303678516 -->\n<g id=\"node3\" class=\"node\">\n<title>&#45;2877554601303678516</title>\n<polygon fill=\"none\" stroke=\"black\" points=\"625,-180 0,-180 0,-144 625,-144 625,-180\"/>\n<text text-anchor=\"middle\" x=\"312.5\" y=\"-157\" font-family=\"Helvetica,sans-Serif\" font-size=\"20.00\">Projection(ArrowStringConversion, [&#39;passenger_count&#39;, &#39;tip_amount&#39;])</text>\n</g>\n<!-- &#45;2877554601303678516&#45;&gt;4750736191424207195 -->\n<g id=\"edge2\" class=\"edge\">\n<title>&#45;2877554601303678516&#45;&gt;4750736191424207195</title>\n<path fill=\"none\" stroke=\"black\" d=\"M312.5,-180.3C312.5,-188.02 312.5,-197.29 312.5,-205.89\"/>\n<polygon fill=\"black\" stroke=\"black\" points=\"309,-205.9 312.5,-215.9 316,-205.9 309,-205.9\"/>\n</g>\n<!-- &#45;4641832223179922638 -->\n<g id=\"node4\" class=\"node\">\n<title>&#45;4641832223179922638</title>\n<polygon fill=\"none\" stroke=\"black\" points=\"523.5,-108 101.5,-108 101.5,-72 523.5,-72 523.5,-108\"/>\n<text text-anchor=\"middle\" x=\"312.5\" y=\"-85\" font-family=\"Helvetica,sans-Serif\" font-size=\"20.00\">ArrowStringConversion(FromMapProjectable)</text>\n</g>\n<!-- &#45;4641832223179922638&#45;&gt;&#45;2877554601303678516 -->\n<g id=\"edge3\" class=\"edge\">\n<title>&#45;4641832223179922638&#45;&gt;&#45;2877554601303678516</title>\n<path fill=\"none\" stroke=\"black\" d=\"M312.5,-108.3C312.5,-116.02 312.5,-125.29 312.5,-133.89\"/>\n<polygon fill=\"black\" stroke=\"black\" points=\"309,-133.9 312.5,-143.9 316,-133.9 309,-133.9\"/>\n</g>\n<!-- &#45;3581188412731891105 -->\n<g id=\"node5\" class=\"node\">\n<title>&#45;3581188412731891105</title>\n<polygon fill=\"none\" stroke=\"black\" points=\"414,-36 211,-36 211,0 414,0 414,-36\"/>\n<text text-anchor=\"middle\" x=\"312.5\" y=\"-13\" font-family=\"Helvetica,sans-Serif\" font-size=\"20.00\">FromMapProjectable</text>\n</g>\n<!-- &#45;3581188412731891105&#45;&gt;&#45;4641832223179922638 -->\n<g id=\"edge4\" class=\"edge\">\n<title>&#45;3581188412731891105&#45;&gt;&#45;4641832223179922638</title>\n<path fill=\"none\" stroke=\"black\" d=\"M312.5,-36.3C312.5,-44.02 312.5,-53.29 312.5,-61.89\"/>\n<polygon fill=\"black\" stroke=\"black\" points=\"309,-61.9 312.5,-71.9 316,-61.9 309,-61.9\"/>\n</g>\n</g>\n</svg>\n",
            "text/plain": [
              "<graphviz.graphs.Digraph at 0x7af26308d2b0>"
            ]
          },
          "metadata": {},
          "execution_count": 36
        }
      ]
    },
    {
      "cell_type": "code",
      "source": [
        "%%time\n",
        "\n",
        "result.compute()"
      ],
      "metadata": {
        "colab": {
          "base_uri": "https://localhost:8080/"
        },
        "id": "SNpoDpCCMDsT",
        "outputId": "c1ca3ac0-30b9-4d3a-85b1-c9dbace50af4"
      },
      "execution_count": null,
      "outputs": [
        {
          "output_type": "stream",
          "name": "stdout",
          "text": [
            "CPU times: user 4min 8s, sys: 16.9 s, total: 4min 25s\n",
            "Wall time: 3min 51s\n"
          ]
        },
        {
          "output_type": "execute_result",
          "data": {
            "text/plain": [
              "passenger_count\n",
              "3    1.681968\n",
              "7    3.840278\n",
              "0    2.310103\n",
              "2    1.784138\n",
              "5    1.803779\n",
              "8    4.678235\n",
              "1    1.779241\n",
              "4    1.581055\n",
              "6    1.751171\n",
              "9    4.188772\n",
              "Name: tip_amount, dtype: float64"
            ],
            "text/html": [
              "<div>\n",
              "<style scoped>\n",
              "    .dataframe tbody tr th:only-of-type {\n",
              "        vertical-align: middle;\n",
              "    }\n",
              "\n",
              "    .dataframe tbody tr th {\n",
              "        vertical-align: top;\n",
              "    }\n",
              "\n",
              "    .dataframe thead th {\n",
              "        text-align: right;\n",
              "    }\n",
              "</style>\n",
              "<table border=\"1\" class=\"dataframe\">\n",
              "  <thead>\n",
              "    <tr style=\"text-align: right;\">\n",
              "      <th></th>\n",
              "      <th>tip_amount</th>\n",
              "    </tr>\n",
              "    <tr>\n",
              "      <th>passenger_count</th>\n",
              "      <th></th>\n",
              "    </tr>\n",
              "  </thead>\n",
              "  <tbody>\n",
              "    <tr>\n",
              "      <th>3</th>\n",
              "      <td>1.681968</td>\n",
              "    </tr>\n",
              "    <tr>\n",
              "      <th>7</th>\n",
              "      <td>3.840278</td>\n",
              "    </tr>\n",
              "    <tr>\n",
              "      <th>0</th>\n",
              "      <td>2.310103</td>\n",
              "    </tr>\n",
              "    <tr>\n",
              "      <th>2</th>\n",
              "      <td>1.784138</td>\n",
              "    </tr>\n",
              "    <tr>\n",
              "      <th>5</th>\n",
              "      <td>1.803779</td>\n",
              "    </tr>\n",
              "    <tr>\n",
              "      <th>8</th>\n",
              "      <td>4.678235</td>\n",
              "    </tr>\n",
              "    <tr>\n",
              "      <th>1</th>\n",
              "      <td>1.779241</td>\n",
              "    </tr>\n",
              "    <tr>\n",
              "      <th>4</th>\n",
              "      <td>1.581055</td>\n",
              "    </tr>\n",
              "    <tr>\n",
              "      <th>6</th>\n",
              "      <td>1.751171</td>\n",
              "    </tr>\n",
              "    <tr>\n",
              "      <th>9</th>\n",
              "      <td>4.188772</td>\n",
              "    </tr>\n",
              "  </tbody>\n",
              "</table>\n",
              "</div><br><label><b>dtype:</b> float64</label>"
            ]
          },
          "metadata": {},
          "execution_count": 37
        }
      ]
    },
    {
      "cell_type": "markdown",
      "source": [
        "### Merging Pandas DataFrames"
      ],
      "metadata": {
        "id": "5dg6TNWdPonJ"
      }
    },
    {
      "cell_type": "code",
      "source": [
        "pd_df_1 = pd.DataFrame(\n",
        "    {\n",
        "        \"Name\": [\"Azza\", \"Brandon\", \"Cedric\", \"Devonte\", \"Eli\", \"Fabio\"],\n",
        "        \"Age\": [29, 30, 21, 57, 32, 19]\n",
        "    }\n",
        ")\n",
        "ddf_1 = dd.from_pandas(pd_df_1, npartitions=2)\n",
        "\n",
        "pd_df_2 = pd.DataFrame(\n",
        "    {\n",
        "        \"Name\": [\"Azza\", \"Cedric\", \"Fabio\"],\n",
        "        \"City\": [\"Beirut\", \"Dublin\", \"Rosario\"]\n",
        "    }\n",
        ")\n",
        "\n",
        "joined = ddf_1.merge(pd_df_2, how=\"left\", on=[\"Name\"])\n",
        "joined"
      ],
      "metadata": {
        "colab": {
          "base_uri": "https://localhost:8080/"
        },
        "id": "DXtCZ0o-MD0U",
        "outputId": "2e254052-2cf1-4a31-9ad7-3253f02eff04"
      },
      "execution_count": null,
      "outputs": [
        {
          "output_type": "execute_result",
          "data": {
            "text/plain": [
              "Dask DataFrame Structure:\n",
              "                 Name    Age    City\n",
              "npartitions=2                       \n",
              "               string  int64  string\n",
              "                  ...    ...     ...\n",
              "                  ...    ...     ...\n",
              "Dask Name: merge, 3 expressions\n",
              "Expr=Merge(81c72d2)"
            ],
            "text/html": [
              "<div><strong>Dask DataFrame Structure:</strong></div>\n",
              "<table border=\"1\" class=\"dataframe\">\n",
              "  <thead>\n",
              "    <tr style=\"text-align: right;\">\n",
              "      <th></th>\n",
              "      <th>Name</th>\n",
              "      <th>Age</th>\n",
              "      <th>City</th>\n",
              "    </tr>\n",
              "    <tr>\n",
              "      <th>npartitions=2</th>\n",
              "      <th></th>\n",
              "      <th></th>\n",
              "      <th></th>\n",
              "    </tr>\n",
              "  </thead>\n",
              "  <tbody>\n",
              "    <tr>\n",
              "      <th></th>\n",
              "      <td>string</td>\n",
              "      <td>int64</td>\n",
              "      <td>string</td>\n",
              "    </tr>\n",
              "    <tr>\n",
              "      <th></th>\n",
              "      <td>...</td>\n",
              "      <td>...</td>\n",
              "      <td>...</td>\n",
              "    </tr>\n",
              "    <tr>\n",
              "      <th></th>\n",
              "      <td>...</td>\n",
              "      <td>...</td>\n",
              "      <td>...</td>\n",
              "    </tr>\n",
              "  </tbody>\n",
              "</table>\n",
              "<div>Dask Name: merge, 3 expressions</div>"
            ]
          },
          "metadata": {},
          "execution_count": 38
        }
      ]
    },
    {
      "cell_type": "code",
      "source": [
        "joined.compute()"
      ],
      "metadata": {
        "colab": {
          "base_uri": "https://localhost:8080/",
          "height": 238
        },
        "id": "zr0wIswPQEED",
        "outputId": "a718b933-f48d-4696-db15-2bed5fe3268b"
      },
      "execution_count": null,
      "outputs": [
        {
          "output_type": "execute_result",
          "data": {
            "text/plain": [
              "      Name  Age     City\n",
              "0     Azza   29   Beirut\n",
              "1  Brandon   30     <NA>\n",
              "2   Cedric   21   Dublin\n",
              "0  Devonte   57     <NA>\n",
              "1      Eli   32     <NA>\n",
              "2    Fabio   19  Rosario"
            ],
            "text/html": [
              "\n",
              "  <div id=\"df-35c245e8-0b10-44c0-bd36-82ba95d66c4a\" class=\"colab-df-container\">\n",
              "    <div>\n",
              "<style scoped>\n",
              "    .dataframe tbody tr th:only-of-type {\n",
              "        vertical-align: middle;\n",
              "    }\n",
              "\n",
              "    .dataframe tbody tr th {\n",
              "        vertical-align: top;\n",
              "    }\n",
              "\n",
              "    .dataframe thead th {\n",
              "        text-align: right;\n",
              "    }\n",
              "</style>\n",
              "<table border=\"1\" class=\"dataframe\">\n",
              "  <thead>\n",
              "    <tr style=\"text-align: right;\">\n",
              "      <th></th>\n",
              "      <th>Name</th>\n",
              "      <th>Age</th>\n",
              "      <th>City</th>\n",
              "    </tr>\n",
              "  </thead>\n",
              "  <tbody>\n",
              "    <tr>\n",
              "      <th>0</th>\n",
              "      <td>Azza</td>\n",
              "      <td>29</td>\n",
              "      <td>Beirut</td>\n",
              "    </tr>\n",
              "    <tr>\n",
              "      <th>1</th>\n",
              "      <td>Brandon</td>\n",
              "      <td>30</td>\n",
              "      <td>&lt;NA&gt;</td>\n",
              "    </tr>\n",
              "    <tr>\n",
              "      <th>2</th>\n",
              "      <td>Cedric</td>\n",
              "      <td>21</td>\n",
              "      <td>Dublin</td>\n",
              "    </tr>\n",
              "    <tr>\n",
              "      <th>0</th>\n",
              "      <td>Devonte</td>\n",
              "      <td>57</td>\n",
              "      <td>&lt;NA&gt;</td>\n",
              "    </tr>\n",
              "    <tr>\n",
              "      <th>1</th>\n",
              "      <td>Eli</td>\n",
              "      <td>32</td>\n",
              "      <td>&lt;NA&gt;</td>\n",
              "    </tr>\n",
              "    <tr>\n",
              "      <th>2</th>\n",
              "      <td>Fabio</td>\n",
              "      <td>19</td>\n",
              "      <td>Rosario</td>\n",
              "    </tr>\n",
              "  </tbody>\n",
              "</table>\n",
              "</div>\n",
              "    <div class=\"colab-df-buttons\">\n",
              "\n",
              "  <div class=\"colab-df-container\">\n",
              "    <button class=\"colab-df-convert\" onclick=\"convertToInteractive('df-35c245e8-0b10-44c0-bd36-82ba95d66c4a')\"\n",
              "            title=\"Convert this dataframe to an interactive table.\"\n",
              "            style=\"display:none;\">\n",
              "\n",
              "  <svg xmlns=\"http://www.w3.org/2000/svg\" height=\"24px\" viewBox=\"0 -960 960 960\">\n",
              "    <path d=\"M120-120v-720h720v720H120Zm60-500h600v-160H180v160Zm220 220h160v-160H400v160Zm0 220h160v-160H400v160ZM180-400h160v-160H180v160Zm440 0h160v-160H620v160ZM180-180h160v-160H180v160Zm440 0h160v-160H620v160Z\"/>\n",
              "  </svg>\n",
              "    </button>\n",
              "\n",
              "  <style>\n",
              "    .colab-df-container {\n",
              "      display:flex;\n",
              "      gap: 12px;\n",
              "    }\n",
              "\n",
              "    .colab-df-convert {\n",
              "      background-color: #E8F0FE;\n",
              "      border: none;\n",
              "      border-radius: 50%;\n",
              "      cursor: pointer;\n",
              "      display: none;\n",
              "      fill: #1967D2;\n",
              "      height: 32px;\n",
              "      padding: 0 0 0 0;\n",
              "      width: 32px;\n",
              "    }\n",
              "\n",
              "    .colab-df-convert:hover {\n",
              "      background-color: #E2EBFA;\n",
              "      box-shadow: 0px 1px 2px rgba(60, 64, 67, 0.3), 0px 1px 3px 1px rgba(60, 64, 67, 0.15);\n",
              "      fill: #174EA6;\n",
              "    }\n",
              "\n",
              "    .colab-df-buttons div {\n",
              "      margin-bottom: 4px;\n",
              "    }\n",
              "\n",
              "    [theme=dark] .colab-df-convert {\n",
              "      background-color: #3B4455;\n",
              "      fill: #D2E3FC;\n",
              "    }\n",
              "\n",
              "    [theme=dark] .colab-df-convert:hover {\n",
              "      background-color: #434B5C;\n",
              "      box-shadow: 0px 1px 3px 1px rgba(0, 0, 0, 0.15);\n",
              "      filter: drop-shadow(0px 1px 2px rgba(0, 0, 0, 0.3));\n",
              "      fill: #FFFFFF;\n",
              "    }\n",
              "  </style>\n",
              "\n",
              "    <script>\n",
              "      const buttonEl =\n",
              "        document.querySelector('#df-35c245e8-0b10-44c0-bd36-82ba95d66c4a button.colab-df-convert');\n",
              "      buttonEl.style.display =\n",
              "        google.colab.kernel.accessAllowed ? 'block' : 'none';\n",
              "\n",
              "      async function convertToInteractive(key) {\n",
              "        const element = document.querySelector('#df-35c245e8-0b10-44c0-bd36-82ba95d66c4a');\n",
              "        const dataTable =\n",
              "          await google.colab.kernel.invokeFunction('convertToInteractive',\n",
              "                                                    [key], {});\n",
              "        if (!dataTable) return;\n",
              "\n",
              "        const docLinkHtml = 'Like what you see? Visit the ' +\n",
              "          '<a target=\"_blank\" href=https://colab.research.google.com/notebooks/data_table.ipynb>data table notebook</a>'\n",
              "          + ' to learn more about interactive tables.';\n",
              "        element.innerHTML = '';\n",
              "        dataTable['output_type'] = 'display_data';\n",
              "        await google.colab.output.renderOutput(dataTable, element);\n",
              "        const docLink = document.createElement('div');\n",
              "        docLink.innerHTML = docLinkHtml;\n",
              "        element.appendChild(docLink);\n",
              "      }\n",
              "    </script>\n",
              "  </div>\n",
              "\n",
              "\n",
              "    <div id=\"df-8147df17-08d5-463b-ba79-e287abaeae4c\">\n",
              "      <button class=\"colab-df-quickchart\" onclick=\"quickchart('df-8147df17-08d5-463b-ba79-e287abaeae4c')\"\n",
              "                title=\"Suggest charts\"\n",
              "                style=\"display:none;\">\n",
              "\n",
              "<svg xmlns=\"http://www.w3.org/2000/svg\" height=\"24px\"viewBox=\"0 0 24 24\"\n",
              "     width=\"24px\">\n",
              "    <g>\n",
              "        <path d=\"M19 3H5c-1.1 0-2 .9-2 2v14c0 1.1.9 2 2 2h14c1.1 0 2-.9 2-2V5c0-1.1-.9-2-2-2zM9 17H7v-7h2v7zm4 0h-2V7h2v10zm4 0h-2v-4h2v4z\"/>\n",
              "    </g>\n",
              "</svg>\n",
              "      </button>\n",
              "\n",
              "<style>\n",
              "  .colab-df-quickchart {\n",
              "      --bg-color: #E8F0FE;\n",
              "      --fill-color: #1967D2;\n",
              "      --hover-bg-color: #E2EBFA;\n",
              "      --hover-fill-color: #174EA6;\n",
              "      --disabled-fill-color: #AAA;\n",
              "      --disabled-bg-color: #DDD;\n",
              "  }\n",
              "\n",
              "  [theme=dark] .colab-df-quickchart {\n",
              "      --bg-color: #3B4455;\n",
              "      --fill-color: #D2E3FC;\n",
              "      --hover-bg-color: #434B5C;\n",
              "      --hover-fill-color: #FFFFFF;\n",
              "      --disabled-bg-color: #3B4455;\n",
              "      --disabled-fill-color: #666;\n",
              "  }\n",
              "\n",
              "  .colab-df-quickchart {\n",
              "    background-color: var(--bg-color);\n",
              "    border: none;\n",
              "    border-radius: 50%;\n",
              "    cursor: pointer;\n",
              "    display: none;\n",
              "    fill: var(--fill-color);\n",
              "    height: 32px;\n",
              "    padding: 0;\n",
              "    width: 32px;\n",
              "  }\n",
              "\n",
              "  .colab-df-quickchart:hover {\n",
              "    background-color: var(--hover-bg-color);\n",
              "    box-shadow: 0 1px 2px rgba(60, 64, 67, 0.3), 0 1px 3px 1px rgba(60, 64, 67, 0.15);\n",
              "    fill: var(--button-hover-fill-color);\n",
              "  }\n",
              "\n",
              "  .colab-df-quickchart-complete:disabled,\n",
              "  .colab-df-quickchart-complete:disabled:hover {\n",
              "    background-color: var(--disabled-bg-color);\n",
              "    fill: var(--disabled-fill-color);\n",
              "    box-shadow: none;\n",
              "  }\n",
              "\n",
              "  .colab-df-spinner {\n",
              "    border: 2px solid var(--fill-color);\n",
              "    border-color: transparent;\n",
              "    border-bottom-color: var(--fill-color);\n",
              "    animation:\n",
              "      spin 1s steps(1) infinite;\n",
              "  }\n",
              "\n",
              "  @keyframes spin {\n",
              "    0% {\n",
              "      border-color: transparent;\n",
              "      border-bottom-color: var(--fill-color);\n",
              "      border-left-color: var(--fill-color);\n",
              "    }\n",
              "    20% {\n",
              "      border-color: transparent;\n",
              "      border-left-color: var(--fill-color);\n",
              "      border-top-color: var(--fill-color);\n",
              "    }\n",
              "    30% {\n",
              "      border-color: transparent;\n",
              "      border-left-color: var(--fill-color);\n",
              "      border-top-color: var(--fill-color);\n",
              "      border-right-color: var(--fill-color);\n",
              "    }\n",
              "    40% {\n",
              "      border-color: transparent;\n",
              "      border-right-color: var(--fill-color);\n",
              "      border-top-color: var(--fill-color);\n",
              "    }\n",
              "    60% {\n",
              "      border-color: transparent;\n",
              "      border-right-color: var(--fill-color);\n",
              "    }\n",
              "    80% {\n",
              "      border-color: transparent;\n",
              "      border-right-color: var(--fill-color);\n",
              "      border-bottom-color: var(--fill-color);\n",
              "    }\n",
              "    90% {\n",
              "      border-color: transparent;\n",
              "      border-bottom-color: var(--fill-color);\n",
              "    }\n",
              "  }\n",
              "</style>\n",
              "\n",
              "      <script>\n",
              "        async function quickchart(key) {\n",
              "          const quickchartButtonEl =\n",
              "            document.querySelector('#' + key + ' button');\n",
              "          quickchartButtonEl.disabled = true;  // To prevent multiple clicks.\n",
              "          quickchartButtonEl.classList.add('colab-df-spinner');\n",
              "          try {\n",
              "            const charts = await google.colab.kernel.invokeFunction(\n",
              "                'suggestCharts', [key], {});\n",
              "          } catch (error) {\n",
              "            console.error('Error during call to suggestCharts:', error);\n",
              "          }\n",
              "          quickchartButtonEl.classList.remove('colab-df-spinner');\n",
              "          quickchartButtonEl.classList.add('colab-df-quickchart-complete');\n",
              "        }\n",
              "        (() => {\n",
              "          let quickchartButtonEl =\n",
              "            document.querySelector('#df-8147df17-08d5-463b-ba79-e287abaeae4c button');\n",
              "          quickchartButtonEl.style.display =\n",
              "            google.colab.kernel.accessAllowed ? 'block' : 'none';\n",
              "        })();\n",
              "      </script>\n",
              "    </div>\n",
              "\n",
              "    </div>\n",
              "  </div>\n"
            ],
            "application/vnd.google.colaboratory.intrinsic+json": {
              "type": "dataframe",
              "summary": "{\n  \"name\": \"joined\",\n  \"rows\": 6,\n  \"fields\": [\n    {\n      \"column\": \"Name\",\n      \"properties\": {\n        \"dtype\": \"string\",\n        \"num_unique_values\": 6,\n        \"samples\": [\n          \"Azza\",\n          \"Brandon\",\n          \"Fabio\"\n        ],\n        \"semantic_type\": \"\",\n        \"description\": \"\"\n      }\n    },\n    {\n      \"column\": \"Age\",\n      \"properties\": {\n        \"dtype\": \"number\",\n        \"std\": 13,\n        \"min\": 19,\n        \"max\": 57,\n        \"num_unique_values\": 6,\n        \"samples\": [\n          29,\n          30,\n          19\n        ],\n        \"semantic_type\": \"\",\n        \"description\": \"\"\n      }\n    },\n    {\n      \"column\": \"City\",\n      \"properties\": {\n        \"dtype\": \"string\",\n        \"num_unique_values\": 3,\n        \"samples\": [\n          \"Beirut\",\n          \"Dublin\",\n          \"Rosario\"\n        ],\n        \"semantic_type\": \"\",\n        \"description\": \"\"\n      }\n    }\n  ]\n}"
            }
          },
          "metadata": {},
          "execution_count": 39
        }
      ]
    },
    {
      "cell_type": "markdown",
      "source": [
        "### Dask Delayed"
      ],
      "metadata": {
        "id": "FAr7XbFeY85F"
      }
    },
    {
      "cell_type": "code",
      "source": [
        "import time\n",
        "\n",
        "def inc(x):\n",
        "    time.sleep(0.1)\n",
        "    return x + 1\n",
        "\n",
        "def dec(x):\n",
        "    time.sleep(0.1)\n",
        "    return x - 1\n",
        "\n",
        "def add(x, y):\n",
        "    time.sleep(0.2)\n",
        "    return x + y"
      ],
      "metadata": {
        "id": "FBhIGYBUY7YF"
      },
      "execution_count": null,
      "outputs": []
    },
    {
      "cell_type": "code",
      "source": [
        "%%timeit\n",
        "\n",
        "x = inc(1)\n",
        "y = dec(2)\n",
        "z = add(x, y)\n",
        "z"
      ],
      "metadata": {
        "colab": {
          "base_uri": "https://localhost:8080/"
        },
        "id": "OjkDH-qiY7Uz",
        "outputId": "88cfb938-3a33-4099-b789-0944a34493f3"
      },
      "execution_count": null,
      "outputs": [
        {
          "output_type": "stream",
          "name": "stdout",
          "text": [
            "402 ms ± 1.55 ms per loop (mean ± std. dev. of 7 runs, 1 loop each)\n"
          ]
        }
      ]
    },
    {
      "cell_type": "code",
      "source": [
        "import dask\n",
        "\n",
        "inc = dask.delayed(inc)\n",
        "dec = dask.delayed(dec)\n",
        "add = dask.delayed(add)"
      ],
      "metadata": {
        "id": "ymIFo38ZZKjd"
      },
      "execution_count": null,
      "outputs": []
    },
    {
      "cell_type": "code",
      "source": [
        "%%timeit\n",
        "\n",
        "x = inc(1)\n",
        "y = dec(2)\n",
        "z = add(x, y)"
      ],
      "metadata": {
        "colab": {
          "base_uri": "https://localhost:8080/"
        },
        "id": "RqqAQl0CZKmd",
        "outputId": "9ed8efad-f5f6-4aba-9c62-ce8d60fd7519"
      },
      "execution_count": null,
      "outputs": [
        {
          "output_type": "stream",
          "name": "stdout",
          "text": [
            "474 µs ± 170 µs per loop (mean ± std. dev. of 7 runs, 1000 loops each)\n"
          ]
        }
      ]
    },
    {
      "cell_type": "code",
      "source": [
        "x = inc(1)\n",
        "y = dec(2)\n",
        "z = add(x, y)"
      ],
      "metadata": {
        "id": "0afCXcMPoaB_"
      },
      "execution_count": null,
      "outputs": []
    },
    {
      "cell_type": "code",
      "source": [
        "z.visualize(rankdir='LR')"
      ],
      "metadata": {
        "colab": {
          "base_uri": "https://localhost:8080/",
          "height": 177
        },
        "id": "3eoqaXDKZKox",
        "outputId": "eb95a8b6-cbdf-48ac-d27d-4a4752873f61"
      },
      "execution_count": null,
      "outputs": [
        {
          "output_type": "execute_result",
          "data": {
            "image/png": "[encoded data removed]",
            "text/plain": [
              "<IPython.core.display.Image object>"
            ]
          },
          "metadata": {},
          "execution_count": 45
        }
      ]
    },
    {
      "cell_type": "code",
      "source": [
        "%%timeit\n",
        "\n",
        "z.compute()"
      ],
      "metadata": {
        "colab": {
          "base_uri": "https://localhost:8080/"
        },
        "id": "Ex6a4EJiZzyT",
        "outputId": "0ce6dae0-04f8-4f58-8fbf-2102dc21e7a8"
      },
      "execution_count": null,
      "outputs": [
        {
          "output_type": "stream",
          "name": "stdout",
          "text": [
            "304 ms ± 691 µs per loop (mean ± std. dev. of 7 runs, 1 loop each)\n"
          ]
        }
      ]
    },
    {
      "cell_type": "code",
      "source": [],
      "metadata": {
        "id": "o7QMPO6WZ9ME"
      },
      "execution_count": null,
      "outputs": []
    }
  ]
}