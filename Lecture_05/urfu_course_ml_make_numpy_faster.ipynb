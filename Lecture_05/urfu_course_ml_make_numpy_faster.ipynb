{
  "nbformat": 4,
  "nbformat_minor": 0,
  "metadata": {
    "colab": {
      "provenance": [],
      "toc_visible": true
    },
    "kernelspec": {
      "name": "python3",
      "display_name": "Python 3"
    },
    "language_info": {
      "name": "python"
    }
  },
  "cells": [
    {
      "cell_type": "code",
      "source": [
        "import numpy as np"
      ],
      "metadata": {
        "id": "7sfNrQTRoytH"
      },
      "execution_count": null,
      "outputs": []
    },
    {
      "cell_type": "code",
      "source": [
        "a = np.random.random(10**7)\n",
        "b = np.random.random(10**7)"
      ],
      "metadata": {
        "id": "k_I9pZTmohiq"
      },
      "execution_count": null,
      "outputs": []
    },
    {
      "cell_type": "markdown",
      "source": [
        "### numexpr\n",
        "\n",
        "[Документация](https://numexpr.readthedocs.io/en/latest/)"
      ],
      "metadata": {
        "id": "qRocjOxmo02h"
      }
    },
    {
      "cell_type": "code",
      "execution_count": null,
      "metadata": {
        "colab": {
          "base_uri": "https://localhost:8080/"
        },
        "id": "zpkJhWQCofoe",
        "outputId": "9c0554ec-f53c-4e77-ac5b-f7ce081529b8"
      },
      "outputs": [
        {
          "output_type": "stream",
          "name": "stdout",
          "text": [
            "Requirement already satisfied: numexpr in /usr/local/lib/python3.10/dist-packages (2.10.1)\n",
            "Requirement already satisfied: numpy>=1.23.0 in /usr/local/lib/python3.10/dist-packages (from numexpr) (1.26.4)\n"
          ]
        }
      ],
      "source": [
        "!pip install numexpr"
      ]
    },
    {
      "cell_type": "code",
      "source": [
        "import numexpr as ne"
      ],
      "metadata": {
        "id": "zJVKvi5UozZI"
      },
      "execution_count": null,
      "outputs": []
    },
    {
      "cell_type": "code",
      "source": [
        "%%timeit\n",
        "\n",
        "np.cos(a) + np.sin(b)"
      ],
      "metadata": {
        "colab": {
          "base_uri": "https://localhost:8080/"
        },
        "id": "drIrZqypohoQ",
        "outputId": "40e5fde2-ac1a-4dab-ede3-d71e1aa97d20"
      },
      "execution_count": null,
      "outputs": [
        {
          "output_type": "stream",
          "name": "stdout",
          "text": [
            "778 ms ± 200 ms per loop (mean ± std. dev. of 7 runs, 1 loop each)\n"
          ]
        }
      ]
    },
    {
      "cell_type": "markdown",
      "source": [
        "Передаваемая в `evaluate` строка компилируется в объект, представляющий выражение.\n",
        "\n",
        "Сначала выражение компилируется с использованием compile в Python.\n",
        "\n",
        "Затем строится дерево разбора и  компилируется в программу байт-кода, которая описывает, как выполнять операцию поэлементно.\n",
        "\n",
        "Массивы обрабатываются как фрагменты (по 4096 элементов) одновременно\n",
        "\n"
      ],
      "metadata": {
        "id": "H_s0tkrBjUqX"
      }
    },
    {
      "cell_type": "code",
      "source": [
        "%%timeit\n",
        "\n",
        "ne.evaluate(\"cos(a) + sin(b)\")"
      ],
      "metadata": {
        "colab": {
          "base_uri": "https://localhost:8080/"
        },
        "id": "RAd6u0F3owhn",
        "outputId": "e24d16f6-bbd2-4d35-8304-01bfa556ab99"
      },
      "execution_count": null,
      "outputs": [
        {
          "output_type": "stream",
          "name": "stdout",
          "text": [
            "520 ms ± 107 ms per loop (mean ± std. dev. of 7 runs, 1 loop each)\n"
          ]
        }
      ]
    },
    {
      "cell_type": "markdown",
      "source": [
        "### Bottleneck\n",
        "\n",
        "Bottleneck is a collection of fast NumPy array functions written in C.\n",
        "\n",
        "[Документация](https://bottleneck.readthedocs.io/en/latest/)"
      ],
      "metadata": {
        "id": "gyeOVt9ppD_i"
      }
    },
    {
      "cell_type": "code",
      "source": [
        "!pip install bottleneck"
      ],
      "metadata": {
        "id": "ocnkRUmLo8iH"
      },
      "execution_count": null,
      "outputs": []
    },
    {
      "cell_type": "code",
      "source": [
        "import bottleneck as bn"
      ],
      "metadata": {
        "id": "2IPuJydBo8lQ"
      },
      "execution_count": null,
      "outputs": []
    },
    {
      "cell_type": "code",
      "source": [
        "bn.bench()"
      ],
      "metadata": {
        "id": "dZ3QN3MGjKFz",
        "colab": {
          "base_uri": "https://localhost:8080/"
        },
        "outputId": "3e387a70-81bc-4be6-d38f-fc271067cdae"
      },
      "execution_count": null,
      "outputs": [
        {
          "output_type": "stream",
          "name": "stdout",
          "text": [
            "Bottleneck performance benchmark\n",
            "    Bottleneck 1.4.0; Numpy 1.26.4\n",
            "    Speed is NumPy time divided by Bottleneck time\n",
            "    NaN means approx one-fifth NaNs; float64 used\n",
            "\n",
            "              no NaN     no NaN      NaN       no NaN      NaN    \n",
            "               (100,)  (1000,1000)(1000,1000)(1000,1000)(1000,1000)\n",
            "               axis=0     axis=0     axis=0     axis=1     axis=1  \n",
            "nansum         38.4        1.0        1.6        1.9        2.0\n",
            "nanmean        87.8        1.9        1.5        2.7        2.1\n",
            "nanstd        209.1        2.1        2.3        2.8        2.7\n",
            "nanvar        121.3        2.2        3.1        2.8        2.5\n",
            "nanmin         21.5        0.2        0.3        0.3        0.4\n",
            "nanmax         23.0        0.2        0.3        0.3        0.4\n",
            "median         67.5        1.2        4.4        1.1        4.9\n",
            "nanmedian      94.9        3.0        3.5        3.0        2.7\n",
            "ss              8.0        1.1        0.7        1.1        1.1\n",
            "nanargmin      69.1        3.6        5.4        2.3        5.4\n",
            "nanargmax      65.8        4.0        7.8        1.6        8.1\n",
            "anynan          9.5        0.4       32.6        0.6       25.7\n",
            "allnan         12.5       89.7       63.5       75.2       56.6\n",
            "rankdata       40.3        1.8        1.8        2.9        2.0\n",
            "nanrankdata    54.3        1.4        1.7        1.9        2.1\n",
            "partition       4.2        0.9        1.5        1.0        1.4\n",
            "argpartition    2.6        0.9        1.2        1.0        1.7\n",
            "replace         8.9        2.6        2.6        4.0        2.6\n",
            "push         2041.1        6.8        7.5       13.7       10.5\n",
            "move_sum     2060.3       60.4      120.0      217.3      205.7\n",
            "move_mean    6668.3       87.9      143.3      315.7      244.2\n",
            "move_std    11823.4      113.9      225.1      225.1      376.2\n",
            "move_var    12503.4      135.6      237.0      306.1      396.9\n",
            "move_min      832.5        7.0        6.4        9.2       15.8\n",
            "move_max     1023.2        7.0        7.3       15.0       24.3\n",
            "move_argmin  1021.1       33.9       67.7       30.2       87.6\n",
            "move_argmax  1988.9       36.7       72.0       48.2       73.2\n",
            "move_median  1432.0      181.4      179.3      171.8      190.7\n",
            "move_rank     413.2        0.8        1.3        1.6        1.8\n"
          ]
        }
      ]
    },
    {
      "cell_type": "code",
      "source": [
        "a = np.random.random((1000,))"
      ],
      "metadata": {
        "id": "ckq2n7mwo8n8"
      },
      "execution_count": null,
      "outputs": []
    },
    {
      "cell_type": "code",
      "source": [
        "%%timeit\n",
        "\n",
        "np.mean(a)"
      ],
      "metadata": {
        "colab": {
          "base_uri": "https://localhost:8080/"
        },
        "id": "ULprYEJapHr0",
        "outputId": "0abb1995-c095-40f8-afe0-da3846e2b562"
      },
      "execution_count": null,
      "outputs": [
        {
          "output_type": "stream",
          "name": "stdout",
          "text": [
            "The slowest run took 4.26 times longer than the fastest. This could mean that an intermediate result is being cached.\n",
            "12.9 µs ± 6.64 µs per loop (mean ± std. dev. of 7 runs, 100000 loops each)\n"
          ]
        }
      ]
    },
    {
      "cell_type": "code",
      "source": [
        "%%timeit\n",
        "\n",
        "bn.nanmean(a)"
      ],
      "metadata": {
        "colab": {
          "base_uri": "https://localhost:8080/"
        },
        "id": "KC70qP59pHvF",
        "outputId": "e4d6af0e-9a11-4fb3-ef83-bf403d39f40a"
      },
      "execution_count": null,
      "outputs": [
        {
          "output_type": "stream",
          "name": "stdout",
          "text": [
            "1.83 µs ± 130 ns per loop (mean ± std. dev. of 7 runs, 1000000 loops each)\n"
          ]
        }
      ]
    },
    {
      "cell_type": "code",
      "source": [
        "%%timeit\n",
        "\n",
        "np.sum(a)"
      ],
      "metadata": {
        "colab": {
          "base_uri": "https://localhost:8080/"
        },
        "id": "kHr1XXAlpHyg",
        "outputId": "736581f7-0b52-499f-c38b-a0c6b423706d"
      },
      "execution_count": null,
      "outputs": [
        {
          "output_type": "stream",
          "name": "stdout",
          "text": [
            "4.63 µs ± 929 ns per loop (mean ± std. dev. of 7 runs, 100000 loops each)\n"
          ]
        }
      ]
    },
    {
      "cell_type": "code",
      "source": [
        "%%timeit\n",
        "\n",
        "bn.nansum(a)"
      ],
      "metadata": {
        "colab": {
          "base_uri": "https://localhost:8080/"
        },
        "id": "YkvKpr-qpH1t",
        "outputId": "391b5bbe-a4d6-4c40-9539-080606b96d1b"
      },
      "execution_count": null,
      "outputs": [
        {
          "output_type": "stream",
          "name": "stdout",
          "text": [
            "1.81 µs ± 105 ns per loop (mean ± std. dev. of 7 runs, 1000000 loops each)\n"
          ]
        }
      ]
    },
    {
      "cell_type": "code",
      "source": [],
      "metadata": {
        "id": "tydk2usmpH3u"
      },
      "execution_count": null,
      "outputs": []
    },
    {
      "cell_type": "code",
      "source": [],
      "metadata": {
        "id": "CZliaODrpH6b"
      },
      "execution_count": null,
      "outputs": []
    }
  ]
}